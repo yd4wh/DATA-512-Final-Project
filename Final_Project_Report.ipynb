{
 "cells": [
  {
   "cell_type": "markdown",
   "metadata": {},
   "source": [
    "# College Scorecard Analysis"
   ]
  },
  {
   "cell_type": "markdown",
   "metadata": {},
   "source": [
    "**Yumeng Ding**  <br/>\n",
    "**DATA512 Human Centered Data Science**  <br/>\n",
    "**University of Washington**"
   ]
  },
  {
   "cell_type": "markdown",
   "metadata": {},
   "source": [
    "## Introduction"
   ]
  },
  {
   "cell_type": "markdown",
   "metadata": {},
   "source": [
    "Choosing what colleges to apply to is an important decision to make for any graduating seniors, and the question is even more broad and influential for an international student trying to pursue education in the United States. My analysis will be adopting an international student as my user persona and explore the [College Scorecard](https://collegescorecard.ed.gov/data/) dataset made public by [the Obama Administration designed to increase transparency](https://obamawhitehouse.archives.gov/the-press-office/2015/09/12/fact-sheet-empowering-students-choose-college-right-them) in the education system. What do international students consider when applying to colleges? First, they will mainly focus on four-year degree granting institutions since they provide better faculty resource and research opportunities. Secondly, they will want to find universities that are inclusive of different races and promote racial diversity. Lastly, they want to have an education that will help their future careers, while in this analysis, we will use post-school earnings as a potential indicator of career trajectory. \n",
    "\n",
    "Motivated by the above senario, this project report will use most recent college scorecard dataset and post-school earnings data to explore the differences in education availability and accessibility across states and regions to help identify potential drivers for a higher post-school earning."
   ]
  },
  {
   "cell_type": "markdown",
   "metadata": {},
   "source": [
    "## Background"
   ]
  },
  {
   "cell_type": "markdown",
   "metadata": {},
   "source": [
    "Since the release of College Scorecard data, U.S. Department of Education built a [tool](https://collegescorecard.ed.gov) for students and parents to find schools and compare schools. The major selection drop downs are programs/degrees, Location, Size and Name. There is also an advance search option where users can choose type of school, specialized mission and religious affiliation. However, there aren't a central location where information over all the states are visualized for a better general picture. Moreover, the website does not provide linkage between school and post-school earnings information, even though future earnings is one of the decision drivers for some students.\n",
    "\n",
    "Therefore, I want to leverage these public data to provide an analysis on higher education availability across different states while also provide insights into what are the factors for a higher post-school earning."
   ]
  },
  {
   "cell_type": "markdown",
   "metadata": {},
   "source": [
    "## Methods"
   ]
  },
  {
   "cell_type": "code",
   "execution_count": 1,
   "metadata": {
    "collapsed": true
   },
   "outputs": [],
   "source": [
    "from IPython.core.interactiveshell import InteractiveShell\n",
    "InteractiveShell.ast_node_interactivity = \"all\""
   ]
  },
  {
   "cell_type": "code",
   "execution_count": 2,
   "metadata": {
    "collapsed": true
   },
   "outputs": [],
   "source": [
    "import pandas as pd\n",
    "import numpy as np\n",
    "import matplotlib.pyplot as plt\n",
    "import seaborn as sns\n",
    "import warnings\n",
    "warnings.filterwarnings('ignore')\n",
    "%matplotlib inline\n",
    "plt.rcParams['figure.figsize'] = (12,7)"
   ]
  },
  {
   "cell_type": "markdown",
   "metadata": {},
   "source": [
    "### Data Overview"
   ]
  },
  {
   "cell_type": "markdown",
   "metadata": {},
   "source": [
    "There are two main datasets used in this report:\n",
    "* **'Most_recent_data.csv'** contains information on 7175 US higher education institutions in 2016-2017 year. The complete dataset has 7175 rows and 1899 columns, with variableds including geographical locations, degree offerings, majors, student body information, faculty information, etc. We will be limiting to five areas in this analysis focusing on availabity of schools and racial composition.\n",
    "* **'Post-school_earnings.csv'** contains post-school earnings report for the same 7175 US higher education institutions reported in 2017. The data includes comprehensive measures of employment status and earningss data subgrouped into 10, 8, 7 and 6 years after entry. "
   ]
  },
  {
   "cell_type": "markdown",
   "metadata": {},
   "source": [
    "All datasets used for this projects are publicly available and accessible under [CC0 1.0 Universal (CC0 1.0) Public Domain Dedication](https://creativecommons.org/publicdomain/zero/1.0/) within the United States."
   ]
  },
  {
   "cell_type": "markdown",
   "metadata": {},
   "source": [
    "### Data Preparation"
   ]
  },
  {
   "cell_type": "markdown",
   "metadata": {},
   "source": [
    "#### Load in both most recent scorecard dataset and post-school earnings dataset"
   ]
  },
  {
   "cell_type": "markdown",
   "metadata": {},
   "source": [
    "Both datasets can be downloaded locally for processing and analysis. The 'Most_recent_data.csv' is compressed to fit on github, therefore user will need to unzip the file for before running the code.\n",
    "\n",
    "Users can also use API calls to access the data [here](http://api.data.gov/ed/collegescorecard/). \n",
    "\n",
    "The full datasets of scorecard data contains 7175 rows and 1899 columns as described below. <br/>\n",
    "The full datasets of post school earning data contains 7175 rows and 92 columsn as described below.\n",
    "\n",
    "We will clean both datasets in the next section in preparation of the analysis"
   ]
  },
  {
   "cell_type": "code",
   "execution_count": 3,
   "metadata": {
    "collapsed": true
   },
   "outputs": [],
   "source": [
    "scorecard = pd.read_csv('Most_recent_data.csv', sep=',', header='infer', low_memory=False)"
   ]
  },
  {
   "cell_type": "code",
   "execution_count": 4,
   "metadata": {},
   "outputs": [
    {
     "data": {
      "text/plain": [
       "(7175, 1899)"
      ]
     },
     "execution_count": 4,
     "metadata": {},
     "output_type": "execute_result"
    }
   ],
   "source": [
    "scorecard.shape"
   ]
  },
  {
   "cell_type": "code",
   "execution_count": 5,
   "metadata": {},
   "outputs": [
    {
     "data": {
      "text/html": [
       "<div>\n",
       "<style scoped>\n",
       "    .dataframe tbody tr th:only-of-type {\n",
       "        vertical-align: middle;\n",
       "    }\n",
       "\n",
       "    .dataframe tbody tr th {\n",
       "        vertical-align: top;\n",
       "    }\n",
       "\n",
       "    .dataframe thead th {\n",
       "        text-align: right;\n",
       "    }\n",
       "</style>\n",
       "<table border=\"1\" class=\"dataframe\">\n",
       "  <thead>\n",
       "    <tr style=\"text-align: right;\">\n",
       "      <th></th>\n",
       "      <th>UNITID</th>\n",
       "      <th>OPEID</th>\n",
       "      <th>OPEID6</th>\n",
       "      <th>INSTNM</th>\n",
       "      <th>CITY</th>\n",
       "      <th>STABBR</th>\n",
       "      <th>ZIP</th>\n",
       "      <th>ACCREDAGENCY</th>\n",
       "      <th>INSTURL</th>\n",
       "      <th>NPCURL</th>\n",
       "      <th>...</th>\n",
       "      <th>OMAWDP6_FTNFT_POOLED_SUPP</th>\n",
       "      <th>OMAWDP8_FTNFT_POOLED_SUPP</th>\n",
       "      <th>OMENRYP8_FTNFT_POOLED_SUPP</th>\n",
       "      <th>OMENRAP8_FTNFT_POOLED_SUPP</th>\n",
       "      <th>OMENRUP8_FTNFT_POOLED_SUPP</th>\n",
       "      <th>OMAWDP6_PTNFT_POOLED_SUPP</th>\n",
       "      <th>OMAWDP8_PTNFT_POOLED_SUPP</th>\n",
       "      <th>OMENRYP8_PTNFT_POOLED_SUPP</th>\n",
       "      <th>OMENRAP8_PTNFT_POOLED_SUPP</th>\n",
       "      <th>OMENRUP8_PTNFT_POOLED_SUPP</th>\n",
       "    </tr>\n",
       "  </thead>\n",
       "  <tbody>\n",
       "    <tr>\n",
       "      <th>0</th>\n",
       "      <td>100654</td>\n",
       "      <td>100200</td>\n",
       "      <td>1002</td>\n",
       "      <td>Alabama A &amp; M University</td>\n",
       "      <td>Normal</td>\n",
       "      <td>AL</td>\n",
       "      <td>35762</td>\n",
       "      <td>Southern Association of Colleges and Schools C...</td>\n",
       "      <td>www.aamu.edu/</td>\n",
       "      <td>www2.aamu.edu/scripts/netpricecalc/npcalc.htm</td>\n",
       "      <td>...</td>\n",
       "      <td>0.4694</td>\n",
       "      <td>0.5136</td>\n",
       "      <td>0.0034</td>\n",
       "      <td>0.1429</td>\n",
       "      <td>0.3401</td>\n",
       "      <td>0.3333</td>\n",
       "      <td>0.3333</td>\n",
       "      <td>0</td>\n",
       "      <td>0</td>\n",
       "      <td>0.6667</td>\n",
       "    </tr>\n",
       "    <tr>\n",
       "      <th>1</th>\n",
       "      <td>100663</td>\n",
       "      <td>105200</td>\n",
       "      <td>1052</td>\n",
       "      <td>University of Alabama at Birmingham</td>\n",
       "      <td>Birmingham</td>\n",
       "      <td>AL</td>\n",
       "      <td>35294-0110</td>\n",
       "      <td>Southern Association of Colleges and Schools C...</td>\n",
       "      <td>www.uab.edu</td>\n",
       "      <td>uab.studentaidcalculator.com/survey.aspx</td>\n",
       "      <td>...</td>\n",
       "      <td>0.6117</td>\n",
       "      <td>0.624</td>\n",
       "      <td>0.0075</td>\n",
       "      <td>0.2166</td>\n",
       "      <td>0.1519</td>\n",
       "      <td>0.3642</td>\n",
       "      <td>0.4</td>\n",
       "      <td>0.0434</td>\n",
       "      <td>0.2755</td>\n",
       "      <td>0.2811</td>\n",
       "    </tr>\n",
       "    <tr>\n",
       "      <th>2</th>\n",
       "      <td>100690</td>\n",
       "      <td>2503400</td>\n",
       "      <td>25034</td>\n",
       "      <td>Amridge University</td>\n",
       "      <td>Montgomery</td>\n",
       "      <td>AL</td>\n",
       "      <td>36117-3553</td>\n",
       "      <td>Southern Association of Colleges and Schools C...</td>\n",
       "      <td>www.amridgeuniversity.edu</td>\n",
       "      <td>www2.amridgeuniversity.edu:9091/</td>\n",
       "      <td>...</td>\n",
       "      <td>0.5503</td>\n",
       "      <td>0.5562</td>\n",
       "      <td>0.0059</td>\n",
       "      <td>0.4379</td>\n",
       "      <td>0</td>\n",
       "      <td>0.4429</td>\n",
       "      <td>0.4714</td>\n",
       "      <td>0.0429</td>\n",
       "      <td>0.4857</td>\n",
       "      <td>0</td>\n",
       "    </tr>\n",
       "    <tr>\n",
       "      <th>3</th>\n",
       "      <td>100706</td>\n",
       "      <td>105500</td>\n",
       "      <td>1055</td>\n",
       "      <td>University of Alabama in Huntsville</td>\n",
       "      <td>Huntsville</td>\n",
       "      <td>AL</td>\n",
       "      <td>35899</td>\n",
       "      <td>Southern Association of Colleges and Schools C...</td>\n",
       "      <td>www.uah.edu</td>\n",
       "      <td>finaid.uah.edu/</td>\n",
       "      <td>...</td>\n",
       "      <td>0.5456</td>\n",
       "      <td>0.5651</td>\n",
       "      <td>0.0123</td>\n",
       "      <td>0.2841</td>\n",
       "      <td>0.1385</td>\n",
       "      <td>0.3378</td>\n",
       "      <td>0.3547</td>\n",
       "      <td>0.0236</td>\n",
       "      <td>0.4257</td>\n",
       "      <td>0.1959</td>\n",
       "    </tr>\n",
       "    <tr>\n",
       "      <th>4</th>\n",
       "      <td>100724</td>\n",
       "      <td>100500</td>\n",
       "      <td>1005</td>\n",
       "      <td>Alabama State University</td>\n",
       "      <td>Montgomery</td>\n",
       "      <td>AL</td>\n",
       "      <td>36104-0271</td>\n",
       "      <td>Southern Association of Colleges and Schools C...</td>\n",
       "      <td>www.alasu.edu</td>\n",
       "      <td>www.alasu.edu/cost-aid/forms/calculator/index....</td>\n",
       "      <td>...</td>\n",
       "      <td>0.4105</td>\n",
       "      <td>0.429</td>\n",
       "      <td>0.0062</td>\n",
       "      <td>0.216</td>\n",
       "      <td>0.3488</td>\n",
       "      <td>0.2931</td>\n",
       "      <td>0.3103</td>\n",
       "      <td>0.0345</td>\n",
       "      <td>0.3966</td>\n",
       "      <td>0.2586</td>\n",
       "    </tr>\n",
       "  </tbody>\n",
       "</table>\n",
       "<p>5 rows × 1899 columns</p>\n",
       "</div>"
      ],
      "text/plain": [
       "   UNITID    OPEID  OPEID6                               INSTNM        CITY  \\\n",
       "0  100654   100200    1002             Alabama A & M University      Normal   \n",
       "1  100663   105200    1052  University of Alabama at Birmingham  Birmingham   \n",
       "2  100690  2503400   25034                   Amridge University  Montgomery   \n",
       "3  100706   105500    1055  University of Alabama in Huntsville  Huntsville   \n",
       "4  100724   100500    1005             Alabama State University  Montgomery   \n",
       "\n",
       "  STABBR         ZIP                                       ACCREDAGENCY  \\\n",
       "0     AL       35762  Southern Association of Colleges and Schools C...   \n",
       "1     AL  35294-0110  Southern Association of Colleges and Schools C...   \n",
       "2     AL  36117-3553  Southern Association of Colleges and Schools C...   \n",
       "3     AL       35899  Southern Association of Colleges and Schools C...   \n",
       "4     AL  36104-0271  Southern Association of Colleges and Schools C...   \n",
       "\n",
       "                     INSTURL  \\\n",
       "0              www.aamu.edu/   \n",
       "1                www.uab.edu   \n",
       "2  www.amridgeuniversity.edu   \n",
       "3                www.uah.edu   \n",
       "4              www.alasu.edu   \n",
       "\n",
       "                                              NPCURL  \\\n",
       "0      www2.aamu.edu/scripts/netpricecalc/npcalc.htm   \n",
       "1           uab.studentaidcalculator.com/survey.aspx   \n",
       "2                   www2.amridgeuniversity.edu:9091/   \n",
       "3                                    finaid.uah.edu/   \n",
       "4  www.alasu.edu/cost-aid/forms/calculator/index....   \n",
       "\n",
       "              ...              OMAWDP6_FTNFT_POOLED_SUPP  \\\n",
       "0             ...                                 0.4694   \n",
       "1             ...                                 0.6117   \n",
       "2             ...                                 0.5503   \n",
       "3             ...                                 0.5456   \n",
       "4             ...                                 0.4105   \n",
       "\n",
       "   OMAWDP8_FTNFT_POOLED_SUPP  OMENRYP8_FTNFT_POOLED_SUPP  \\\n",
       "0                     0.5136                      0.0034   \n",
       "1                      0.624                      0.0075   \n",
       "2                     0.5562                      0.0059   \n",
       "3                     0.5651                      0.0123   \n",
       "4                      0.429                      0.0062   \n",
       "\n",
       "   OMENRAP8_FTNFT_POOLED_SUPP  OMENRUP8_FTNFT_POOLED_SUPP  \\\n",
       "0                      0.1429                      0.3401   \n",
       "1                      0.2166                      0.1519   \n",
       "2                      0.4379                           0   \n",
       "3                      0.2841                      0.1385   \n",
       "4                       0.216                      0.3488   \n",
       "\n",
       "   OMAWDP6_PTNFT_POOLED_SUPP  OMAWDP8_PTNFT_POOLED_SUPP  \\\n",
       "0                     0.3333                     0.3333   \n",
       "1                     0.3642                        0.4   \n",
       "2                     0.4429                     0.4714   \n",
       "3                     0.3378                     0.3547   \n",
       "4                     0.2931                     0.3103   \n",
       "\n",
       "   OMENRYP8_PTNFT_POOLED_SUPP  OMENRAP8_PTNFT_POOLED_SUPP  \\\n",
       "0                           0                           0   \n",
       "1                      0.0434                      0.2755   \n",
       "2                      0.0429                      0.4857   \n",
       "3                      0.0236                      0.4257   \n",
       "4                      0.0345                      0.3966   \n",
       "\n",
       "   OMENRUP8_PTNFT_POOLED_SUPP  \n",
       "0                      0.6667  \n",
       "1                      0.2811  \n",
       "2                           0  \n",
       "3                      0.1959  \n",
       "4                      0.2586  \n",
       "\n",
       "[5 rows x 1899 columns]"
      ]
     },
     "execution_count": 5,
     "metadata": {},
     "output_type": "execute_result"
    }
   ],
   "source": [
    "scorecard.head()"
   ]
  },
  {
   "cell_type": "code",
   "execution_count": 6,
   "metadata": {
    "collapsed": true
   },
   "outputs": [],
   "source": [
    "post_school_earning = pd.read_csv('Post-school_earnings.csv', sep=',', header='infer', low_memory=False)"
   ]
  },
  {
   "cell_type": "code",
   "execution_count": 7,
   "metadata": {},
   "outputs": [
    {
     "data": {
      "text/plain": [
       "(7175, 92)"
      ]
     },
     "execution_count": 7,
     "metadata": {},
     "output_type": "execute_result"
    }
   ],
   "source": [
    "post_school_earning.shape"
   ]
  },
  {
   "cell_type": "code",
   "execution_count": 8,
   "metadata": {},
   "outputs": [
    {
     "data": {
      "text/html": [
       "<div>\n",
       "<style scoped>\n",
       "    .dataframe tbody tr th:only-of-type {\n",
       "        vertical-align: middle;\n",
       "    }\n",
       "\n",
       "    .dataframe tbody tr th {\n",
       "        vertical-align: top;\n",
       "    }\n",
       "\n",
       "    .dataframe thead th {\n",
       "        text-align: right;\n",
       "    }\n",
       "</style>\n",
       "<table border=\"1\" class=\"dataframe\">\n",
       "  <thead>\n",
       "    <tr style=\"text-align: right;\">\n",
       "      <th></th>\n",
       "      <th>UNITID</th>\n",
       "      <th>OPEID</th>\n",
       "      <th>OPEID6</th>\n",
       "      <th>INSTNM</th>\n",
       "      <th>COUNT_ED</th>\n",
       "      <th>AGEGE24</th>\n",
       "      <th>PCT_WHITE</th>\n",
       "      <th>PCT_BLACK</th>\n",
       "      <th>PCT_ASIAN</th>\n",
       "      <th>PCT_HISPANIC</th>\n",
       "      <th>...</th>\n",
       "      <th>SD_EARN_WNE_P8</th>\n",
       "      <th>GT_25K_P8</th>\n",
       "      <th>COUNT_NWNE_P9</th>\n",
       "      <th>COUNT_WNE_P9</th>\n",
       "      <th>MN_EARN_WNE_P9</th>\n",
       "      <th>SD_EARN_WNE_P9</th>\n",
       "      <th>GT_25K_P9</th>\n",
       "      <th>GT_28K_P10</th>\n",
       "      <th>GT_28K_P8</th>\n",
       "      <th>GT_28K_P6</th>\n",
       "    </tr>\n",
       "  </thead>\n",
       "  <tbody>\n",
       "    <tr>\n",
       "      <th>0</th>\n",
       "      <td>100654</td>\n",
       "      <td>100200</td>\n",
       "      <td>1002</td>\n",
       "      <td>Alabama A &amp; M University</td>\n",
       "      <td>NaN</td>\n",
       "      <td>0.07999999821186</td>\n",
       "      <td>46.8400001525878</td>\n",
       "      <td>47.9799995422363</td>\n",
       "      <td>1.48000001907348</td>\n",
       "      <td>3.78999996185302</td>\n",
       "      <td>...</td>\n",
       "      <td>20100</td>\n",
       "      <td>0.544</td>\n",
       "      <td>215</td>\n",
       "      <td>1480</td>\n",
       "      <td>33800</td>\n",
       "      <td>27500</td>\n",
       "      <td>0.58783781528472</td>\n",
       "      <td>0.567</td>\n",
       "      <td>0.483</td>\n",
       "      <td>0.431</td>\n",
       "    </tr>\n",
       "    <tr>\n",
       "      <th>1</th>\n",
       "      <td>100663</td>\n",
       "      <td>105200</td>\n",
       "      <td>1052</td>\n",
       "      <td>University of Alabama at Birmingham</td>\n",
       "      <td>NaN</td>\n",
       "      <td>0.25999999046325</td>\n",
       "      <td>69.0199966430664</td>\n",
       "      <td>27.7600002288818</td>\n",
       "      <td>1.10000002384185</td>\n",
       "      <td>2.02999997138977</td>\n",
       "      <td>...</td>\n",
       "      <td>36500</td>\n",
       "      <td>0.722</td>\n",
       "      <td>347</td>\n",
       "      <td>2592</td>\n",
       "      <td>44500</td>\n",
       "      <td>38600</td>\n",
       "      <td>0.73726850748062</td>\n",
       "      <td>0.726</td>\n",
       "      <td>0.686</td>\n",
       "      <td>0.631</td>\n",
       "    </tr>\n",
       "    <tr>\n",
       "      <th>2</th>\n",
       "      <td>100690</td>\n",
       "      <td>2503400</td>\n",
       "      <td>25034</td>\n",
       "      <td>Amridge University</td>\n",
       "      <td>NaN</td>\n",
       "      <td>0.82999998331069</td>\n",
       "      <td>70.8799972534179</td>\n",
       "      <td>22.5300006866455</td>\n",
       "      <td>1.28999996185302</td>\n",
       "      <td>6.94000005722046</td>\n",
       "      <td>...</td>\n",
       "      <td>33900</td>\n",
       "      <td>0.668</td>\n",
       "      <td>41</td>\n",
       "      <td>174</td>\n",
       "      <td>42400</td>\n",
       "      <td>30500</td>\n",
       "      <td>0.7356321811676</td>\n",
       "      <td>0.7</td>\n",
       "      <td>0.631</td>\n",
       "      <td>0.542</td>\n",
       "    </tr>\n",
       "    <tr>\n",
       "      <th>3</th>\n",
       "      <td>100706</td>\n",
       "      <td>105500</td>\n",
       "      <td>1055</td>\n",
       "      <td>University of Alabama in Huntsville</td>\n",
       "      <td>NaN</td>\n",
       "      <td>0.28999999165534</td>\n",
       "      <td>76.3799972534179</td>\n",
       "      <td>18.9799995422363</td>\n",
       "      <td>1.41999995708465</td>\n",
       "      <td>2.54999995231628</td>\n",
       "      <td>...</td>\n",
       "      <td>28400</td>\n",
       "      <td>0.73</td>\n",
       "      <td>152</td>\n",
       "      <td>1106</td>\n",
       "      <td>50200</td>\n",
       "      <td>37700</td>\n",
       "      <td>0.78119349479675</td>\n",
       "      <td>0.755</td>\n",
       "      <td>0.71</td>\n",
       "      <td>0.649</td>\n",
       "    </tr>\n",
       "    <tr>\n",
       "      <th>4</th>\n",
       "      <td>100724</td>\n",
       "      <td>100500</td>\n",
       "      <td>1005</td>\n",
       "      <td>Alabama State University</td>\n",
       "      <td>NaN</td>\n",
       "      <td>0.10999999940395</td>\n",
       "      <td>42.6899986267089</td>\n",
       "      <td>52.3199996948242</td>\n",
       "      <td>1.40999996662139</td>\n",
       "      <td>4.09000015258789</td>\n",
       "      <td>...</td>\n",
       "      <td>18000</td>\n",
       "      <td>0.468</td>\n",
       "      <td>297</td>\n",
       "      <td>1810</td>\n",
       "      <td>29400</td>\n",
       "      <td>20000</td>\n",
       "      <td>0.52983427047729</td>\n",
       "      <td>0.494</td>\n",
       "      <td>0.436</td>\n",
       "      <td>0.351</td>\n",
       "    </tr>\n",
       "  </tbody>\n",
       "</table>\n",
       "<p>5 rows × 92 columns</p>\n",
       "</div>"
      ],
      "text/plain": [
       "   UNITID    OPEID  OPEID6                               INSTNM  COUNT_ED  \\\n",
       "0  100654   100200    1002             Alabama A & M University       NaN   \n",
       "1  100663   105200    1052  University of Alabama at Birmingham       NaN   \n",
       "2  100690  2503400   25034                   Amridge University       NaN   \n",
       "3  100706   105500    1055  University of Alabama in Huntsville       NaN   \n",
       "4  100724   100500    1005             Alabama State University       NaN   \n",
       "\n",
       "            AGEGE24         PCT_WHITE         PCT_BLACK         PCT_ASIAN  \\\n",
       "0  0.07999999821186  46.8400001525878  47.9799995422363  1.48000001907348   \n",
       "1  0.25999999046325  69.0199966430664  27.7600002288818  1.10000002384185   \n",
       "2  0.82999998331069  70.8799972534179  22.5300006866455  1.28999996185302   \n",
       "3  0.28999999165534  76.3799972534179  18.9799995422363  1.41999995708465   \n",
       "4  0.10999999940395  42.6899986267089  52.3199996948242  1.40999996662139   \n",
       "\n",
       "       PCT_HISPANIC    ...    SD_EARN_WNE_P8 GT_25K_P8 COUNT_NWNE_P9  \\\n",
       "0  3.78999996185302    ...             20100     0.544           215   \n",
       "1  2.02999997138977    ...             36500     0.722           347   \n",
       "2  6.94000005722046    ...             33900     0.668            41   \n",
       "3  2.54999995231628    ...             28400      0.73           152   \n",
       "4  4.09000015258789    ...             18000     0.468           297   \n",
       "\n",
       "  COUNT_WNE_P9 MN_EARN_WNE_P9 SD_EARN_WNE_P9         GT_25K_P9 GT_28K_P10  \\\n",
       "0         1480          33800          27500  0.58783781528472      0.567   \n",
       "1         2592          44500          38600  0.73726850748062      0.726   \n",
       "2          174          42400          30500   0.7356321811676        0.7   \n",
       "3         1106          50200          37700  0.78119349479675      0.755   \n",
       "4         1810          29400          20000  0.52983427047729      0.494   \n",
       "\n",
       "  GT_28K_P8 GT_28K_P6  \n",
       "0     0.483     0.431  \n",
       "1     0.686     0.631  \n",
       "2     0.631     0.542  \n",
       "3      0.71     0.649  \n",
       "4     0.436     0.351  \n",
       "\n",
       "[5 rows x 92 columns]"
      ]
     },
     "execution_count": 8,
     "metadata": {},
     "output_type": "execute_result"
    }
   ],
   "source": [
    "post_school_earning.head()"
   ]
  },
  {
   "cell_type": "markdown",
   "metadata": {},
   "source": [
    "#### Clean scorecard and post_school_earning to only keep columns relevant for this project"
   ]
  },
  {
   "cell_type": "markdown",
   "metadata": {},
   "source": [
    "For the purpose of this analysis, we will keep 24 variables from 5 main categories of infomration from the college scorecard dataset.\n",
    "\n",
    "    School: Name, Location, Degree Type, Public/Private Nonprofit/Private For-Profit\n",
    "        ['INSTNM','STABBR','ZIP','SCH_DEG','PREDDEG','CONTROL','REGION']\n",
    "    Admissions: Acceptance Rate, SAT scores\n",
    "        ['ADM_RATE','SATVRMID','SATMTMID','SATWRMID']\n",
    "    Student: Number of Undergraduate Students, Undergraduate Student Body by Race/Ethnicity\n",
    "        ['UG','UG_NRA','UG_UNKN','UG_WHITENH','UG_BLACKNH','UG_API','UG_AIANOLD','UG_HISPOLD']\n",
    "    Cost: Average Cost of Attendance, Tuition and Fees, Average Faculty Salary\n",
    "        ['COSTT4_A','TUITIONFEE_IN','TUITIONFEE_OUT','AVGFACSAL']\n",
    "    Aid: Percent of Undergraduates Receiving Federal Loans\n",
    "        ['PCTFLOAN']\n",
    "\n",
    "We also renamed Institution Name, State, and Racial Composition columns to be more interpretable.\n",
    "\n",
    "We cleaned the post-school earnings data to keep only information on unemployment rate and post-school earnings 10 years and 6 years after entry to provide more simplisitic interpretations. \n",
    "\n",
    "    School: Name\n",
    "        ['INSTNM']\n",
    "    Unemployment: Unemployment Rate\n",
    "        ['UNEMP_RATE']\n",
    "    Post-school Earnings: Statistics for earnings 10 years after entry, Statistics for earnings 6 years after entry\n",
    "        ['COUNT_NWNE_P10','COUNT_WNE_P10','MN_EARN_WNE_P10','MD_EARN_WNE_P10',\n",
    "         'PCT10_EARN_WNE_P10','PCT25_EARN_WNE_P10','PCT75_EARN_WNE_P10',\n",
    "         'PCT90_EARN_WNE_P10','SD_EARN_WNE_P10',\n",
    "         'COUNT_NWNE_P6','COUNT_WNE_P6','MN_EARN_WNE_P6','MD_EARN_WNE_P6',\n",
    "         'PCT10_EARN_WNE_P6','PCT25_EARN_WNE_P6','PCT75_EARN_WNE_P6',\n",
    "         'PCT90_EARN_WNE_P6','SD_EARN_WNE_P6']\n",
    "         \n",
    "We also renamed Institution Name in the earnings dataset for consistency. <br/>\n",
    "The cleaned version will now contain 20 variables in earnings data."
   ]
  },
  {
   "cell_type": "code",
   "execution_count": 9,
   "metadata": {
    "collapsed": true
   },
   "outputs": [],
   "source": [
    "scorecard_clean = scorecard[['INSTNM','STABBR','ZIP','SCH_DEG','PREDDEG','CONTROL','REGION',\n",
    "                             'ADM_RATE','SATVRMID','SATMTMID','SATWRMID',\n",
    "                             'UG','UG_NRA','UG_UNKN','UG_WHITENH','UG_BLACKNH','UG_API','UG_AIANOLD','UG_HISPOLD',\n",
    "                             'COSTT4_A','TUITIONFEE_IN','TUITIONFEE_OUT','AVGFACSAL','PCTFLOAN']]"
   ]
  },
  {
   "cell_type": "code",
   "execution_count": 10,
   "metadata": {
    "collapsed": true
   },
   "outputs": [],
   "source": [
    "scorecard_clean = scorecard_clean.rename(columns={'INSTNM':'Institution_Name','STABBR':'STATE',\n",
    "                                                  'UG_NRA':'Non_Resident_Alien','UG_UNKN':'Unknown_Race',\n",
    "                                                  'UG_WHITENH':'White','UG_BLACKNH':'Black',\n",
    "                                                  'UG_API':'Asian_Pacific_Islander','UG_AIANOLD':'Native_American',\n",
    "                                                  'UG_HISPOLD':'Hispanic'})"
   ]
  },
  {
   "cell_type": "code",
   "execution_count": 11,
   "metadata": {},
   "outputs": [
    {
     "data": {
      "text/plain": [
       "(7175, 24)"
      ]
     },
     "execution_count": 11,
     "metadata": {},
     "output_type": "execute_result"
    }
   ],
   "source": [
    "scorecard_clean.shape"
   ]
  },
  {
   "cell_type": "code",
   "execution_count": 12,
   "metadata": {},
   "outputs": [
    {
     "data": {
      "text/html": [
       "<div>\n",
       "<style scoped>\n",
       "    .dataframe tbody tr th:only-of-type {\n",
       "        vertical-align: middle;\n",
       "    }\n",
       "\n",
       "    .dataframe tbody tr th {\n",
       "        vertical-align: top;\n",
       "    }\n",
       "\n",
       "    .dataframe thead th {\n",
       "        text-align: right;\n",
       "    }\n",
       "</style>\n",
       "<table border=\"1\" class=\"dataframe\">\n",
       "  <thead>\n",
       "    <tr style=\"text-align: right;\">\n",
       "      <th></th>\n",
       "      <th>Institution_Name</th>\n",
       "      <th>STATE</th>\n",
       "      <th>ZIP</th>\n",
       "      <th>SCH_DEG</th>\n",
       "      <th>PREDDEG</th>\n",
       "      <th>CONTROL</th>\n",
       "      <th>REGION</th>\n",
       "      <th>ADM_RATE</th>\n",
       "      <th>SATVRMID</th>\n",
       "      <th>SATMTMID</th>\n",
       "      <th>...</th>\n",
       "      <th>White</th>\n",
       "      <th>Black</th>\n",
       "      <th>Asian_Pacific_Islander</th>\n",
       "      <th>Native_American</th>\n",
       "      <th>Hispanic</th>\n",
       "      <th>COSTT4_A</th>\n",
       "      <th>TUITIONFEE_IN</th>\n",
       "      <th>TUITIONFEE_OUT</th>\n",
       "      <th>AVGFACSAL</th>\n",
       "      <th>PCTFLOAN</th>\n",
       "    </tr>\n",
       "  </thead>\n",
       "  <tbody>\n",
       "    <tr>\n",
       "      <th>0</th>\n",
       "      <td>Alabama A &amp; M University</td>\n",
       "      <td>AL</td>\n",
       "      <td>35762</td>\n",
       "      <td>3.0</td>\n",
       "      <td>3</td>\n",
       "      <td>1</td>\n",
       "      <td>5</td>\n",
       "      <td>0.8738</td>\n",
       "      <td>425.0</td>\n",
       "      <td>420.0</td>\n",
       "      <td>...</td>\n",
       "      <td>0.0459</td>\n",
       "      <td>0.9055</td>\n",
       "      <td>0.0030</td>\n",
       "      <td>0.0027</td>\n",
       "      <td>0.0027</td>\n",
       "      <td>22667.0</td>\n",
       "      <td>9366.0</td>\n",
       "      <td>17496.0</td>\n",
       "      <td>7028.0</td>\n",
       "      <td>0.7667</td>\n",
       "    </tr>\n",
       "    <tr>\n",
       "      <th>1</th>\n",
       "      <td>University of Alabama at Birmingham</td>\n",
       "      <td>AL</td>\n",
       "      <td>35294-0110</td>\n",
       "      <td>3.0</td>\n",
       "      <td>3</td>\n",
       "      <td>1</td>\n",
       "      <td>5</td>\n",
       "      <td>0.5814</td>\n",
       "      <td>560.0</td>\n",
       "      <td>575.0</td>\n",
       "      <td>...</td>\n",
       "      <td>0.6124</td>\n",
       "      <td>0.2861</td>\n",
       "      <td>0.0286</td>\n",
       "      <td>0.0031</td>\n",
       "      <td>0.0101</td>\n",
       "      <td>22684.0</td>\n",
       "      <td>8040.0</td>\n",
       "      <td>18368.0</td>\n",
       "      <td>10517.0</td>\n",
       "      <td>0.5179</td>\n",
       "    </tr>\n",
       "    <tr>\n",
       "      <th>2</th>\n",
       "      <td>Amridge University</td>\n",
       "      <td>AL</td>\n",
       "      <td>36117-3553</td>\n",
       "      <td>3.0</td>\n",
       "      <td>3</td>\n",
       "      <td>2</td>\n",
       "      <td>5</td>\n",
       "      <td>NaN</td>\n",
       "      <td>NaN</td>\n",
       "      <td>NaN</td>\n",
       "      <td>...</td>\n",
       "      <td>0.6837</td>\n",
       "      <td>0.2347</td>\n",
       "      <td>0.0204</td>\n",
       "      <td>0.0000</td>\n",
       "      <td>0.0612</td>\n",
       "      <td>13380.0</td>\n",
       "      <td>7180.0</td>\n",
       "      <td>7180.0</td>\n",
       "      <td>3857.0</td>\n",
       "      <td>0.8436</td>\n",
       "    </tr>\n",
       "    <tr>\n",
       "      <th>3</th>\n",
       "      <td>University of Alabama in Huntsville</td>\n",
       "      <td>AL</td>\n",
       "      <td>35899</td>\n",
       "      <td>3.0</td>\n",
       "      <td>3</td>\n",
       "      <td>1</td>\n",
       "      <td>5</td>\n",
       "      <td>0.7628</td>\n",
       "      <td>590.0</td>\n",
       "      <td>610.0</td>\n",
       "      <td>...</td>\n",
       "      <td>0.6912</td>\n",
       "      <td>0.1435</td>\n",
       "      <td>0.0366</td>\n",
       "      <td>0.0205</td>\n",
       "      <td>0.0186</td>\n",
       "      <td>22059.0</td>\n",
       "      <td>9842.0</td>\n",
       "      <td>20612.0</td>\n",
       "      <td>9463.0</td>\n",
       "      <td>0.4312</td>\n",
       "    </tr>\n",
       "    <tr>\n",
       "      <th>4</th>\n",
       "      <td>Alabama State University</td>\n",
       "      <td>AL</td>\n",
       "      <td>36104-0271</td>\n",
       "      <td>3.0</td>\n",
       "      <td>3</td>\n",
       "      <td>1</td>\n",
       "      <td>5</td>\n",
       "      <td>0.4590</td>\n",
       "      <td>415.0</td>\n",
       "      <td>410.0</td>\n",
       "      <td>...</td>\n",
       "      <td>0.0435</td>\n",
       "      <td>0.9172</td>\n",
       "      <td>0.0018</td>\n",
       "      <td>0.0005</td>\n",
       "      <td>0.0028</td>\n",
       "      <td>19242.0</td>\n",
       "      <td>9220.0</td>\n",
       "      <td>16156.0</td>\n",
       "      <td>7952.0</td>\n",
       "      <td>0.8113</td>\n",
       "    </tr>\n",
       "  </tbody>\n",
       "</table>\n",
       "<p>5 rows × 24 columns</p>\n",
       "</div>"
      ],
      "text/plain": [
       "                      Institution_Name STATE         ZIP  SCH_DEG  PREDDEG  \\\n",
       "0             Alabama A & M University    AL       35762      3.0        3   \n",
       "1  University of Alabama at Birmingham    AL  35294-0110      3.0        3   \n",
       "2                   Amridge University    AL  36117-3553      3.0        3   \n",
       "3  University of Alabama in Huntsville    AL       35899      3.0        3   \n",
       "4             Alabama State University    AL  36104-0271      3.0        3   \n",
       "\n",
       "   CONTROL  REGION  ADM_RATE  SATVRMID  SATMTMID    ...      White   Black  \\\n",
       "0        1       5    0.8738     425.0     420.0    ...     0.0459  0.9055   \n",
       "1        1       5    0.5814     560.0     575.0    ...     0.6124  0.2861   \n",
       "2        2       5       NaN       NaN       NaN    ...     0.6837  0.2347   \n",
       "3        1       5    0.7628     590.0     610.0    ...     0.6912  0.1435   \n",
       "4        1       5    0.4590     415.0     410.0    ...     0.0435  0.9172   \n",
       "\n",
       "   Asian_Pacific_Islander  Native_American  Hispanic  COSTT4_A  TUITIONFEE_IN  \\\n",
       "0                  0.0030           0.0027    0.0027   22667.0         9366.0   \n",
       "1                  0.0286           0.0031    0.0101   22684.0         8040.0   \n",
       "2                  0.0204           0.0000    0.0612   13380.0         7180.0   \n",
       "3                  0.0366           0.0205    0.0186   22059.0         9842.0   \n",
       "4                  0.0018           0.0005    0.0028   19242.0         9220.0   \n",
       "\n",
       "   TUITIONFEE_OUT  AVGFACSAL  PCTFLOAN  \n",
       "0         17496.0     7028.0    0.7667  \n",
       "1         18368.0    10517.0    0.5179  \n",
       "2          7180.0     3857.0    0.8436  \n",
       "3         20612.0     9463.0    0.4312  \n",
       "4         16156.0     7952.0    0.8113  \n",
       "\n",
       "[5 rows x 24 columns]"
      ]
     },
     "execution_count": 12,
     "metadata": {},
     "output_type": "execute_result"
    }
   ],
   "source": [
    "scorecard_clean.head()"
   ]
  },
  {
   "cell_type": "code",
   "execution_count": 13,
   "metadata": {
    "collapsed": true
   },
   "outputs": [],
   "source": [
    "earning_clean = post_school_earning[['INSTNM','UNEMP_RATE',\n",
    "                                     'COUNT_NWNE_P10','COUNT_WNE_P10','MN_EARN_WNE_P10','MD_EARN_WNE_P10',\n",
    "                                     'PCT10_EARN_WNE_P10','PCT25_EARN_WNE_P10','PCT75_EARN_WNE_P10',\n",
    "                                     'PCT90_EARN_WNE_P10','SD_EARN_WNE_P10',\n",
    "                                     'COUNT_NWNE_P6','COUNT_WNE_P6','MN_EARN_WNE_P6','MD_EARN_WNE_P6',\n",
    "                                     'PCT10_EARN_WNE_P6','PCT25_EARN_WNE_P6','PCT75_EARN_WNE_P6',\n",
    "                                     'PCT90_EARN_WNE_P6','SD_EARN_WNE_P6']]"
   ]
  },
  {
   "cell_type": "code",
   "execution_count": 14,
   "metadata": {
    "collapsed": true
   },
   "outputs": [],
   "source": [
    "earning_clean = earning_clean.rename(columns={'INSTNM':'Institution_Name'})"
   ]
  },
  {
   "cell_type": "code",
   "execution_count": 15,
   "metadata": {},
   "outputs": [
    {
     "data": {
      "text/plain": [
       "(7175, 20)"
      ]
     },
     "execution_count": 15,
     "metadata": {},
     "output_type": "execute_result"
    }
   ],
   "source": [
    "earning_clean.shape"
   ]
  },
  {
   "cell_type": "code",
   "execution_count": 16,
   "metadata": {},
   "outputs": [
    {
     "data": {
      "text/html": [
       "<div>\n",
       "<style scoped>\n",
       "    .dataframe tbody tr th:only-of-type {\n",
       "        vertical-align: middle;\n",
       "    }\n",
       "\n",
       "    .dataframe tbody tr th {\n",
       "        vertical-align: top;\n",
       "    }\n",
       "\n",
       "    .dataframe thead th {\n",
       "        text-align: right;\n",
       "    }\n",
       "</style>\n",
       "<table border=\"1\" class=\"dataframe\">\n",
       "  <thead>\n",
       "    <tr style=\"text-align: right;\">\n",
       "      <th></th>\n",
       "      <th>Institution_Name</th>\n",
       "      <th>UNEMP_RATE</th>\n",
       "      <th>COUNT_NWNE_P10</th>\n",
       "      <th>COUNT_WNE_P10</th>\n",
       "      <th>MN_EARN_WNE_P10</th>\n",
       "      <th>MD_EARN_WNE_P10</th>\n",
       "      <th>PCT10_EARN_WNE_P10</th>\n",
       "      <th>PCT25_EARN_WNE_P10</th>\n",
       "      <th>PCT75_EARN_WNE_P10</th>\n",
       "      <th>PCT90_EARN_WNE_P10</th>\n",
       "      <th>SD_EARN_WNE_P10</th>\n",
       "      <th>COUNT_NWNE_P6</th>\n",
       "      <th>COUNT_WNE_P6</th>\n",
       "      <th>MN_EARN_WNE_P6</th>\n",
       "      <th>MD_EARN_WNE_P6</th>\n",
       "      <th>PCT10_EARN_WNE_P6</th>\n",
       "      <th>PCT25_EARN_WNE_P6</th>\n",
       "      <th>PCT75_EARN_WNE_P6</th>\n",
       "      <th>PCT90_EARN_WNE_P6</th>\n",
       "      <th>SD_EARN_WNE_P6</th>\n",
       "    </tr>\n",
       "  </thead>\n",
       "  <tbody>\n",
       "    <tr>\n",
       "      <th>0</th>\n",
       "      <td>Alabama A &amp; M University</td>\n",
       "      <td>4.84000015258789</td>\n",
       "      <td>212</td>\n",
       "      <td>1784</td>\n",
       "      <td>35500</td>\n",
       "      <td>31000</td>\n",
       "      <td>6700</td>\n",
       "      <td>17800</td>\n",
       "      <td>46000</td>\n",
       "      <td>70000</td>\n",
       "      <td>25400</td>\n",
       "      <td>94</td>\n",
       "      <td>1304</td>\n",
       "      <td>28400</td>\n",
       "      <td>25200</td>\n",
       "      <td>4500</td>\n",
       "      <td>15000</td>\n",
       "      <td>36800</td>\n",
       "      <td>51400</td>\n",
       "      <td>24000</td>\n",
       "    </tr>\n",
       "    <tr>\n",
       "      <th>1</th>\n",
       "      <td>University of Alabama at Birmingham</td>\n",
       "      <td>3.45000004768371</td>\n",
       "      <td>464</td>\n",
       "      <td>3643</td>\n",
       "      <td>48400</td>\n",
       "      <td>41200</td>\n",
       "      <td>10900</td>\n",
       "      <td>26300</td>\n",
       "      <td>59900</td>\n",
       "      <td>84000</td>\n",
       "      <td>39200</td>\n",
       "      <td>241</td>\n",
       "      <td>2727</td>\n",
       "      <td>39400</td>\n",
       "      <td>35100</td>\n",
       "      <td>9700</td>\n",
       "      <td>21000</td>\n",
       "      <td>50800</td>\n",
       "      <td>66200</td>\n",
       "      <td>32000</td>\n",
       "    </tr>\n",
       "    <tr>\n",
       "      <th>2</th>\n",
       "      <td>Amridge University</td>\n",
       "      <td>3.59999990463256</td>\n",
       "      <td>54</td>\n",
       "      <td>170</td>\n",
       "      <td>47600</td>\n",
       "      <td>39600</td>\n",
       "      <td>6800</td>\n",
       "      <td>25200</td>\n",
       "      <td>60300</td>\n",
       "      <td>79500</td>\n",
       "      <td>38600</td>\n",
       "      <td>38</td>\n",
       "      <td>155</td>\n",
       "      <td>35400</td>\n",
       "      <td>30700</td>\n",
       "      <td>7300</td>\n",
       "      <td>15200</td>\n",
       "      <td>47200</td>\n",
       "      <td>75400</td>\n",
       "      <td>26700</td>\n",
       "    </tr>\n",
       "    <tr>\n",
       "      <th>3</th>\n",
       "      <td>University of Alabama in Huntsville</td>\n",
       "      <td>3.64000010490417</td>\n",
       "      <td>213</td>\n",
       "      <td>1475</td>\n",
       "      <td>52000</td>\n",
       "      <td>46700</td>\n",
       "      <td>12900</td>\n",
       "      <td>28300</td>\n",
       "      <td>73100</td>\n",
       "      <td>93300</td>\n",
       "      <td>33600</td>\n",
       "      <td>144</td>\n",
       "      <td>1378</td>\n",
       "      <td>40300</td>\n",
       "      <td>36200</td>\n",
       "      <td>9100</td>\n",
       "      <td>22700</td>\n",
       "      <td>56900</td>\n",
       "      <td>70300</td>\n",
       "      <td>25200</td>\n",
       "    </tr>\n",
       "    <tr>\n",
       "      <th>4</th>\n",
       "      <td>Alabama State University</td>\n",
       "      <td>4.80999994277954</td>\n",
       "      <td>244</td>\n",
       "      <td>1832</td>\n",
       "      <td>30600</td>\n",
       "      <td>27700</td>\n",
       "      <td>7100</td>\n",
       "      <td>15600</td>\n",
       "      <td>41500</td>\n",
       "      <td>55400</td>\n",
       "      <td>21400</td>\n",
       "      <td>157</td>\n",
       "      <td>1754</td>\n",
       "      <td>24400</td>\n",
       "      <td>22600</td>\n",
       "      <td>4300</td>\n",
       "      <td>13700</td>\n",
       "      <td>32100</td>\n",
       "      <td>39800</td>\n",
       "      <td>15900</td>\n",
       "    </tr>\n",
       "  </tbody>\n",
       "</table>\n",
       "</div>"
      ],
      "text/plain": [
       "                      Institution_Name        UNEMP_RATE COUNT_NWNE_P10  \\\n",
       "0             Alabama A & M University  4.84000015258789            212   \n",
       "1  University of Alabama at Birmingham  3.45000004768371            464   \n",
       "2                   Amridge University  3.59999990463256             54   \n",
       "3  University of Alabama in Huntsville  3.64000010490417            213   \n",
       "4             Alabama State University  4.80999994277954            244   \n",
       "\n",
       "  COUNT_WNE_P10 MN_EARN_WNE_P10 MD_EARN_WNE_P10 PCT10_EARN_WNE_P10  \\\n",
       "0          1784           35500           31000               6700   \n",
       "1          3643           48400           41200              10900   \n",
       "2           170           47600           39600               6800   \n",
       "3          1475           52000           46700              12900   \n",
       "4          1832           30600           27700               7100   \n",
       "\n",
       "  PCT25_EARN_WNE_P10 PCT75_EARN_WNE_P10 PCT90_EARN_WNE_P10 SD_EARN_WNE_P10  \\\n",
       "0              17800              46000              70000           25400   \n",
       "1              26300              59900              84000           39200   \n",
       "2              25200              60300              79500           38600   \n",
       "3              28300              73100              93300           33600   \n",
       "4              15600              41500              55400           21400   \n",
       "\n",
       "  COUNT_NWNE_P6 COUNT_WNE_P6 MN_EARN_WNE_P6 MD_EARN_WNE_P6 PCT10_EARN_WNE_P6  \\\n",
       "0            94         1304          28400          25200              4500   \n",
       "1           241         2727          39400          35100              9700   \n",
       "2            38          155          35400          30700              7300   \n",
       "3           144         1378          40300          36200              9100   \n",
       "4           157         1754          24400          22600              4300   \n",
       "\n",
       "  PCT25_EARN_WNE_P6 PCT75_EARN_WNE_P6 PCT90_EARN_WNE_P6 SD_EARN_WNE_P6  \n",
       "0             15000             36800             51400          24000  \n",
       "1             21000             50800             66200          32000  \n",
       "2             15200             47200             75400          26700  \n",
       "3             22700             56900             70300          25200  \n",
       "4             13700             32100             39800          15900  "
      ]
     },
     "execution_count": 16,
     "metadata": {},
     "output_type": "execute_result"
    }
   ],
   "source": [
    "earning_clean.head()"
   ]
  },
  {
   "cell_type": "markdown",
   "metadata": {},
   "source": [
    "#### Filter colleges to only include 4-year-degree granting schools before conducting analysis"
   ]
  },
  {
   "cell_type": "markdown",
   "metadata": {},
   "source": [
    "In the College Scorecard Data Dictionary, column PREDDEG (Predominant undergraduate degree awarded) could have 5 values, as described below:\n",
    "\n",
    "    0 Not classified\n",
    "    1 Predominantly certificate-degree granting\n",
    "    2 Predominantly associate's-degree granting\n",
    "    3 Predominantly bachelor's-degree granting\n",
    "    4 Entirely graduate-degree granting\n",
    "    \n",
    "Since there are more inconsistencies in the data for Predominantly certificate-degree granting and Predominantly associate's-degree granting schools and Entirely graduate-degree granting schools are out-of-scope for the purpose of this analysis. We will limit to only Predominantly bachelor's-degree granting colleges below.\n",
    "\n",
    "After limiting to bachelor's-degree granting colleges, we have 2113 colleges left in our scorecard dataset."
   ]
  },
  {
   "cell_type": "code",
   "execution_count": 17,
   "metadata": {},
   "outputs": [
    {
     "data": {
      "text/plain": [
       "array([3, 2, 1, 4, 0])"
      ]
     },
     "execution_count": 17,
     "metadata": {},
     "output_type": "execute_result"
    },
    {
     "data": {
      "text/plain": [
       "(2113, 24)"
      ]
     },
     "execution_count": 17,
     "metadata": {},
     "output_type": "execute_result"
    }
   ],
   "source": [
    "# check unique values of PREDDEG before limiting\n",
    "scorecard_clean.PREDDEG.unique()\n",
    "# keep rows of colleges that are predominantly bachelor's degree granting (PREDDEG = 3)\n",
    "scorecard_clean = scorecard_clean.loc[scorecard_clean['PREDDEG'] == 3]\n",
    "scorecard_clean.shape"
   ]
  },
  {
   "cell_type": "markdown",
   "metadata": {},
   "source": [
    "#### Filter colleges to include only continental US schools using region codes"
   ]
  },
  {
   "cell_type": "markdown",
   "metadata": {},
   "source": [
    "Since the college scorecard dataset is comprehensive of all colleges in both continental US and other US territories, which is not within the scope of this analysis. We will limit to only colleges in the continental US below.\n",
    "\n",
    "The Scorecard data is bucketed into below regions, we will group by both states and regions and count the number of school available in each state and region.\n",
    "\n",
    "    0\tU.S. Service Schools\n",
    "    1\tNew England (CT, ME, MA, NH, RI, VT)\n",
    "    2\tMid East (DE, DC, MD, NJ, NY, PA)\n",
    "    3\tGreat Lakes (IL, IN, MI, OH, WI)\n",
    "    4\tPlains (IA, KS, MN, MO, NE, ND, SD)\n",
    "    5\tSoutheast (AL, AR, FL, GA, KY, LA, MS, NC, SC, TN, VA, WV)\n",
    "    6\tSouthwest (AZ, NM, OK, TX)\n",
    "    7\tRocky Mountains (CO, ID, MT, UT, WY)\n",
    "    8\tFar West (AK, CA, HI, NV, OR, WA)\n",
    "    9\tOutlying Areas (AS, FM, GU, MH, MP, PR, PW, VI)\n",
    "    \n",
    "For the purpose of this analysis, we will focus on continental US.\n",
    "\n",
    "After limiting to continental US, we have 2062 colleges with 25 variables."
   ]
  },
  {
   "cell_type": "code",
   "execution_count": 18,
   "metadata": {
    "collapsed": true
   },
   "outputs": [],
   "source": [
    "# build a dictionary for region and limit to continental US \n",
    "# and then rename into interpretable Region Names instead of numbers\n",
    "region_lookup = {\n",
    "    '0':'U.S. Service Schools',\n",
    "    '1':'New England',\n",
    "    '2':'Mid East',\n",
    "    '3':'Great Lakes',\n",
    "    '4':'Plains',\n",
    "    '5':'Southeast',\n",
    "    '6':'Southwest',\n",
    "    '7':'Rocky Mountains',\n",
    "    '8':'Far West',\n",
    "    '9':'Outlying Areas'\n",
    "}"
   ]
  },
  {
   "cell_type": "code",
   "execution_count": 19,
   "metadata": {},
   "outputs": [
    {
     "data": {
      "text/plain": [
       "array([5, 8, 6, 4, 7, 1, 2, 3, 0, 9])"
      ]
     },
     "execution_count": 19,
     "metadata": {},
     "output_type": "execute_result"
    }
   ],
   "source": [
    "# check unique values of REGION before limiting\n",
    "scorecard_clean.REGION.unique()\n",
    "# keep rows of colleges that are within continental US\n",
    "scorecard_clean = scorecard_clean.loc[~scorecard_clean['REGION'].isin([0,9])]"
   ]
  },
  {
   "cell_type": "code",
   "execution_count": 20,
   "metadata": {
    "scrolled": true
   },
   "outputs": [
    {
     "data": {
      "text/plain": [
       "(2062, 25)"
      ]
     },
     "execution_count": 20,
     "metadata": {},
     "output_type": "execute_result"
    }
   ],
   "source": [
    "scorecard_clean['REGION_RENAME'] = scorecard_clean['REGION'].apply(lambda x: region_lookup[str(x)])\n",
    "scorecard_clean.shape"
   ]
  },
  {
   "cell_type": "markdown",
   "metadata": {},
   "source": [
    "We will build our analysis based on scorecard_clean dataframe which contains 2062 rows and 25 columns."
   ]
  },
  {
   "cell_type": "markdown",
   "metadata": {},
   "source": [
    "## Research Questions & Findings"
   ]
  },
  {
   "cell_type": "markdown",
   "metadata": {},
   "source": [
    "In this section, we will use the cleaned version of scorecard and earnings data from the above section to answer three research questions that are intended to help our user persona to choose colleges to apply to.\n",
    "\n",
    "Research Questions:\n",
    "\n",
    "1. What are the states that have higher cost of enrollment? What are the states that have the most four-year degree granting institutions available?\n",
    "\n",
    "2. How are racial diversity different by regions and types of colleges (public vs. private)?\n",
    "\n",
    "3. What are the potential factors of higher post-school earnings?"
   ]
  },
  {
   "cell_type": "markdown",
   "metadata": {},
   "source": [
    "#### RQ1: Segment cost of enrollment by states, are there regional distinctions of average cost of enrollment, what are potential implications behind the regional cost differences, and how would that affect education accessibility?"
   ]
  },
  {
   "cell_type": "markdown",
   "metadata": {},
   "source": [
    "* **Availability (In terms of count of colleges):** At the regional level, Southeast, Mid East and Great Lakes have the most 4-year degree granting schools, with Florida, North Caroline and Georgia contributing 198 colleges in the southeast region. In general, both east coast and west coast have more educational resources in terms of count of colleges compared to the middle regions. On the state level, New York and California has 175 and 155 colleges available respectively, which is more than regions like Southwest and Rocky Mountains. These numbers show a significant skew to the coastal states which is a potential indicator of educational resource inequality. For example, a student living in Wyoming will only have one choice for bachelor's degree granting colleges, whereas a student living in New York can choose from 175 different colleges. This will also impact the possibilities of high school students getting admitted into a 4-year degree granting college, since each college will have an upper limit for capacity and faculty resource."
   ]
  },
  {
   "cell_type": "code",
   "execution_count": 21,
   "metadata": {},
   "outputs": [
    {
     "data": {
      "text/plain": [
       "array(['Southeast', 'Far West', 'Southwest', 'Plains', 'Rocky Mountains',\n",
       "       'New England', 'Mid East', 'Great Lakes'], dtype=object)"
      ]
     },
     "execution_count": 21,
     "metadata": {},
     "output_type": "execute_result"
    },
    {
     "data": {
      "text/plain": [
       "array(['AL', 'AK', 'AZ', 'AR', 'CA', 'MN', 'CO', 'CT', 'DE', 'DC', 'FL',\n",
       "       'GA', 'HI', 'ID', 'IL', 'IN', 'IA', 'KS', 'KY', 'LA', 'ME', 'MD',\n",
       "       'MA', 'MI', 'MS', 'MO', 'MT', 'NE', 'NV', 'NH', 'NJ', 'NM', 'NY',\n",
       "       'NC', 'ND', 'OH', 'OK', 'OR', 'PA', 'RI', 'SC', 'SD', 'TN', 'TX',\n",
       "       'UT', 'VT', 'VA', 'WA', 'WV', 'WI', 'WY'], dtype=object)"
      ]
     },
     "execution_count": 21,
     "metadata": {},
     "output_type": "execute_result"
    }
   ],
   "source": [
    "# check unique values of REGION \n",
    "scorecard_clean.REGION_RENAME.unique()\n",
    "# check unique values of STATES, this will include Washington District of Columbia as 'DC'\n",
    "scorecard_clean.STATE.unique()"
   ]
  },
  {
   "cell_type": "code",
   "execution_count": 22,
   "metadata": {
    "collapsed": true
   },
   "outputs": [],
   "source": [
    "# count total number of colleges in each region using group by\n",
    "region_college_cnt = scorecard_clean.groupby('REGION_RENAME').count()['Institution_Name']\n",
    "# count total number of colleges in each state using group by\n",
    "state_college_cnt = scorecard_clean.groupby('STATE').count()['Institution_Name']"
   ]
  },
  {
   "cell_type": "code",
   "execution_count": 23,
   "metadata": {},
   "outputs": [
    {
     "data": {
      "text/html": [
       "<div>\n",
       "<style scoped>\n",
       "    .dataframe tbody tr th:only-of-type {\n",
       "        vertical-align: middle;\n",
       "    }\n",
       "\n",
       "    .dataframe tbody tr th {\n",
       "        vertical-align: top;\n",
       "    }\n",
       "\n",
       "    .dataframe thead th {\n",
       "        text-align: right;\n",
       "    }\n",
       "</style>\n",
       "<table border=\"1\" class=\"dataframe\">\n",
       "  <thead>\n",
       "    <tr style=\"text-align: right;\">\n",
       "      <th></th>\n",
       "      <th>college_cnt</th>\n",
       "    </tr>\n",
       "    <tr>\n",
       "      <th>REGION_RENAME</th>\n",
       "      <th></th>\n",
       "    </tr>\n",
       "  </thead>\n",
       "  <tbody>\n",
       "    <tr>\n",
       "      <th>Far West</th>\n",
       "      <td>242</td>\n",
       "    </tr>\n",
       "    <tr>\n",
       "      <th>Great Lakes</th>\n",
       "      <td>306</td>\n",
       "    </tr>\n",
       "    <tr>\n",
       "      <th>Mid East</th>\n",
       "      <td>400</td>\n",
       "    </tr>\n",
       "    <tr>\n",
       "      <th>New England</th>\n",
       "      <td>166</td>\n",
       "    </tr>\n",
       "    <tr>\n",
       "      <th>Plains</th>\n",
       "      <td>212</td>\n",
       "    </tr>\n",
       "    <tr>\n",
       "      <th>Rocky Mountains</th>\n",
       "      <td>69</td>\n",
       "    </tr>\n",
       "    <tr>\n",
       "      <th>Southeast</th>\n",
       "      <td>497</td>\n",
       "    </tr>\n",
       "    <tr>\n",
       "      <th>Southwest</th>\n",
       "      <td>170</td>\n",
       "    </tr>\n",
       "  </tbody>\n",
       "</table>\n",
       "</div>"
      ],
      "text/plain": [
       "                 college_cnt\n",
       "REGION_RENAME               \n",
       "Far West                 242\n",
       "Great Lakes              306\n",
       "Mid East                 400\n",
       "New England              166\n",
       "Plains                   212\n",
       "Rocky Mountains           69\n",
       "Southeast                497\n",
       "Southwest                170"
      ]
     },
     "execution_count": 23,
     "metadata": {},
     "output_type": "execute_result"
    }
   ],
   "source": [
    "# output count of colleges by regions\n",
    "df_region_college_cnt = region_college_cnt.to_frame(name='college_cnt')\n",
    "df_region_college_cnt"
   ]
  },
  {
   "cell_type": "code",
   "execution_count": 24,
   "metadata": {
    "scrolled": false
   },
   "outputs": [
    {
     "data": {
      "text/html": [
       "<div>\n",
       "<style scoped>\n",
       "    .dataframe tbody tr th:only-of-type {\n",
       "        vertical-align: middle;\n",
       "    }\n",
       "\n",
       "    .dataframe tbody tr th {\n",
       "        vertical-align: top;\n",
       "    }\n",
       "\n",
       "    .dataframe thead th {\n",
       "        text-align: right;\n",
       "    }\n",
       "</style>\n",
       "<table border=\"1\" class=\"dataframe\">\n",
       "  <thead>\n",
       "    <tr style=\"text-align: right;\">\n",
       "      <th></th>\n",
       "      <th>college_cnt</th>\n",
       "    </tr>\n",
       "    <tr>\n",
       "      <th>STATE</th>\n",
       "      <th></th>\n",
       "    </tr>\n",
       "  </thead>\n",
       "  <tbody>\n",
       "    <tr>\n",
       "      <th>NY</th>\n",
       "      <td>175</td>\n",
       "    </tr>\n",
       "    <tr>\n",
       "      <th>CA</th>\n",
       "      <td>155</td>\n",
       "    </tr>\n",
       "    <tr>\n",
       "      <th>PA</th>\n",
       "      <td>129</td>\n",
       "    </tr>\n",
       "    <tr>\n",
       "      <th>TX</th>\n",
       "      <td>102</td>\n",
       "    </tr>\n",
       "    <tr>\n",
       "      <th>IL</th>\n",
       "      <td>85</td>\n",
       "    </tr>\n",
       "    <tr>\n",
       "      <th>MA</th>\n",
       "      <td>80</td>\n",
       "    </tr>\n",
       "    <tr>\n",
       "      <th>OH</th>\n",
       "      <td>77</td>\n",
       "    </tr>\n",
       "    <tr>\n",
       "      <th>FL</th>\n",
       "      <td>74</td>\n",
       "    </tr>\n",
       "    <tr>\n",
       "      <th>NC</th>\n",
       "      <td>64</td>\n",
       "    </tr>\n",
       "    <tr>\n",
       "      <th>GA</th>\n",
       "      <td>60</td>\n",
       "    </tr>\n",
       "  </tbody>\n",
       "</table>\n",
       "</div>"
      ],
      "text/plain": [
       "       college_cnt\n",
       "STATE             \n",
       "NY             175\n",
       "CA             155\n",
       "PA             129\n",
       "TX             102\n",
       "IL              85\n",
       "MA              80\n",
       "OH              77\n",
       "FL              74\n",
       "NC              64\n",
       "GA              60"
      ]
     },
     "execution_count": 24,
     "metadata": {},
     "output_type": "execute_result"
    },
    {
     "data": {
      "text/html": [
       "<div>\n",
       "<style scoped>\n",
       "    .dataframe tbody tr th:only-of-type {\n",
       "        vertical-align: middle;\n",
       "    }\n",
       "\n",
       "    .dataframe tbody tr th {\n",
       "        vertical-align: top;\n",
       "    }\n",
       "\n",
       "    .dataframe thead th {\n",
       "        text-align: right;\n",
       "    }\n",
       "</style>\n",
       "<table border=\"1\" class=\"dataframe\">\n",
       "  <thead>\n",
       "    <tr style=\"text-align: right;\">\n",
       "      <th></th>\n",
       "      <th>college_cnt</th>\n",
       "    </tr>\n",
       "    <tr>\n",
       "      <th>STATE</th>\n",
       "      <th></th>\n",
       "    </tr>\n",
       "  </thead>\n",
       "  <tbody>\n",
       "    <tr>\n",
       "      <th>SD</th>\n",
       "      <td>12</td>\n",
       "    </tr>\n",
       "    <tr>\n",
       "      <th>NV</th>\n",
       "      <td>12</td>\n",
       "    </tr>\n",
       "    <tr>\n",
       "      <th>RI</th>\n",
       "      <td>10</td>\n",
       "    </tr>\n",
       "    <tr>\n",
       "      <th>HI</th>\n",
       "      <td>9</td>\n",
       "    </tr>\n",
       "    <tr>\n",
       "      <th>ND</th>\n",
       "      <td>9</td>\n",
       "    </tr>\n",
       "    <tr>\n",
       "      <th>MT</th>\n",
       "      <td>9</td>\n",
       "    </tr>\n",
       "    <tr>\n",
       "      <th>ID</th>\n",
       "      <td>9</td>\n",
       "    </tr>\n",
       "    <tr>\n",
       "      <th>DE</th>\n",
       "      <td>6</td>\n",
       "    </tr>\n",
       "    <tr>\n",
       "      <th>AK</th>\n",
       "      <td>3</td>\n",
       "    </tr>\n",
       "    <tr>\n",
       "      <th>WY</th>\n",
       "      <td>1</td>\n",
       "    </tr>\n",
       "  </tbody>\n",
       "</table>\n",
       "</div>"
      ],
      "text/plain": [
       "       college_cnt\n",
       "STATE             \n",
       "SD              12\n",
       "NV              12\n",
       "RI              10\n",
       "HI               9\n",
       "ND               9\n",
       "MT               9\n",
       "ID               9\n",
       "DE               6\n",
       "AK               3\n",
       "WY               1"
      ]
     },
     "execution_count": 24,
     "metadata": {},
     "output_type": "execute_result"
    }
   ],
   "source": [
    "# output the top 10 and bottom 10 states by total number of colleges\n",
    "df_state_college_cnt = state_college_cnt.to_frame(name='college_cnt')\n",
    "df_state_college_cnt.sort_values(by=['college_cnt'],ascending=False).head(10)\n",
    "df_state_college_cnt.sort_values(by=['college_cnt'],ascending=False).tail(10)"
   ]
  },
  {
   "cell_type": "markdown",
   "metadata": {},
   "source": [
    "* **Accessibility (In terms of average cost of attendance):** On the region level, New England has the highest average cost of attendance of over 42,000 per year. The top three states in average cost of attendance are all in the New England region, which is the main contributor to the average 42,911 per year price. Even though there are 166 colleges to choose from in this region, a family with below average income will not be able to afford such a high price of attendance. The other call out here in conjunction with number of colleges available is the fact that Iowa has only 35 colleges available, but the average cost of attendance is among the top 10 across states. The limited resource and high cost of attendance will hinder students' ability to obtain higher education in the state of Iowa."
   ]
  },
  {
   "cell_type": "code",
   "execution_count": 25,
   "metadata": {
    "collapsed": true
   },
   "outputs": [],
   "source": [
    "# avg cost of attendance in each region using group by\n",
    "region_avg_cost = scorecard_clean.groupby('REGION_RENAME').mean()['COSTT4_A']\n",
    "# avg cost of attendance in each state using group by\n",
    "state_avg_cost = scorecard_clean.groupby('STATE').mean()['COSTT4_A']"
   ]
  },
  {
   "cell_type": "code",
   "execution_count": 26,
   "metadata": {},
   "outputs": [
    {
     "data": {
      "text/html": [
       "<div>\n",
       "<style scoped>\n",
       "    .dataframe tbody tr th:only-of-type {\n",
       "        vertical-align: middle;\n",
       "    }\n",
       "\n",
       "    .dataframe tbody tr th {\n",
       "        vertical-align: top;\n",
       "    }\n",
       "\n",
       "    .dataframe thead th {\n",
       "        text-align: right;\n",
       "    }\n",
       "</style>\n",
       "<table border=\"1\" class=\"dataframe\">\n",
       "  <thead>\n",
       "    <tr style=\"text-align: right;\">\n",
       "      <th></th>\n",
       "      <th>avg_attendance_cost</th>\n",
       "    </tr>\n",
       "    <tr>\n",
       "      <th>REGION_RENAME</th>\n",
       "      <th></th>\n",
       "    </tr>\n",
       "  </thead>\n",
       "  <tbody>\n",
       "    <tr>\n",
       "      <th>Far West</th>\n",
       "      <td>36704.269608</td>\n",
       "    </tr>\n",
       "    <tr>\n",
       "      <th>Great Lakes</th>\n",
       "      <td>34601.649819</td>\n",
       "    </tr>\n",
       "    <tr>\n",
       "      <th>Mid East</th>\n",
       "      <td>36620.512064</td>\n",
       "    </tr>\n",
       "    <tr>\n",
       "      <th>New England</th>\n",
       "      <td>42911.857143</td>\n",
       "    </tr>\n",
       "    <tr>\n",
       "      <th>Plains</th>\n",
       "      <td>31607.843750</td>\n",
       "    </tr>\n",
       "    <tr>\n",
       "      <th>Rocky Mountains</th>\n",
       "      <td>26491.418182</td>\n",
       "    </tr>\n",
       "    <tr>\n",
       "      <th>Southeast</th>\n",
       "      <td>30376.477124</td>\n",
       "    </tr>\n",
       "    <tr>\n",
       "      <th>Southwest</th>\n",
       "      <td>27965.233333</td>\n",
       "    </tr>\n",
       "  </tbody>\n",
       "</table>\n",
       "</div>"
      ],
      "text/plain": [
       "                 avg_attendance_cost\n",
       "REGION_RENAME                       \n",
       "Far West                36704.269608\n",
       "Great Lakes             34601.649819\n",
       "Mid East                36620.512064\n",
       "New England             42911.857143\n",
       "Plains                  31607.843750\n",
       "Rocky Mountains         26491.418182\n",
       "Southeast               30376.477124\n",
       "Southwest               27965.233333"
      ]
     },
     "execution_count": 26,
     "metadata": {},
     "output_type": "execute_result"
    }
   ],
   "source": [
    "# output avg cost of attendance by region\n",
    "df_region_avg_cost = region_avg_cost.to_frame(name='avg_attendance_cost')\n",
    "df_region_avg_cost"
   ]
  },
  {
   "cell_type": "code",
   "execution_count": 27,
   "metadata": {
    "scrolled": false
   },
   "outputs": [
    {
     "data": {
      "text/html": [
       "<div>\n",
       "<style scoped>\n",
       "    .dataframe tbody tr th:only-of-type {\n",
       "        vertical-align: middle;\n",
       "    }\n",
       "\n",
       "    .dataframe tbody tr th {\n",
       "        vertical-align: top;\n",
       "    }\n",
       "\n",
       "    .dataframe thead th {\n",
       "        text-align: right;\n",
       "    }\n",
       "</style>\n",
       "<table border=\"1\" class=\"dataframe\">\n",
       "  <thead>\n",
       "    <tr style=\"text-align: right;\">\n",
       "      <th></th>\n",
       "      <th>avg_attendance_cost</th>\n",
       "    </tr>\n",
       "    <tr>\n",
       "      <th>STATE</th>\n",
       "      <th></th>\n",
       "    </tr>\n",
       "  </thead>\n",
       "  <tbody>\n",
       "    <tr>\n",
       "      <th>MA</th>\n",
       "      <td>46629.028169</td>\n",
       "    </tr>\n",
       "    <tr>\n",
       "      <th>RI</th>\n",
       "      <td>45472.000000</td>\n",
       "    </tr>\n",
       "    <tr>\n",
       "      <th>VT</th>\n",
       "      <td>42408.133333</td>\n",
       "    </tr>\n",
       "    <tr>\n",
       "      <th>DC</th>\n",
       "      <td>42153.090909</td>\n",
       "    </tr>\n",
       "    <tr>\n",
       "      <th>CT</th>\n",
       "      <td>39624.791667</td>\n",
       "    </tr>\n",
       "    <tr>\n",
       "      <th>PA</th>\n",
       "      <td>39280.392000</td>\n",
       "    </tr>\n",
       "    <tr>\n",
       "      <th>NH</th>\n",
       "      <td>38878.533333</td>\n",
       "    </tr>\n",
       "    <tr>\n",
       "      <th>CA</th>\n",
       "      <td>38607.492424</td>\n",
       "    </tr>\n",
       "    <tr>\n",
       "      <th>IA</th>\n",
       "      <td>38331.030303</td>\n",
       "    </tr>\n",
       "    <tr>\n",
       "      <th>WA</th>\n",
       "      <td>37152.791667</td>\n",
       "    </tr>\n",
       "  </tbody>\n",
       "</table>\n",
       "</div>"
      ],
      "text/plain": [
       "       avg_attendance_cost\n",
       "STATE                     \n",
       "MA            46629.028169\n",
       "RI            45472.000000\n",
       "VT            42408.133333\n",
       "DC            42153.090909\n",
       "CT            39624.791667\n",
       "PA            39280.392000\n",
       "NH            38878.533333\n",
       "CA            38607.492424\n",
       "IA            38331.030303\n",
       "WA            37152.791667"
      ]
     },
     "execution_count": 27,
     "metadata": {},
     "output_type": "execute_result"
    },
    {
     "data": {
      "text/html": [
       "<div>\n",
       "<style scoped>\n",
       "    .dataframe tbody tr th:only-of-type {\n",
       "        vertical-align: middle;\n",
       "    }\n",
       "\n",
       "    .dataframe tbody tr th {\n",
       "        vertical-align: top;\n",
       "    }\n",
       "\n",
       "    .dataframe thead th {\n",
       "        text-align: right;\n",
       "    }\n",
       "</style>\n",
       "<table border=\"1\" class=\"dataframe\">\n",
       "  <thead>\n",
       "    <tr style=\"text-align: right;\">\n",
       "      <th></th>\n",
       "      <th>avg_attendance_cost</th>\n",
       "    </tr>\n",
       "    <tr>\n",
       "      <th>STATE</th>\n",
       "      <th></th>\n",
       "    </tr>\n",
       "  </thead>\n",
       "  <tbody>\n",
       "    <tr>\n",
       "      <th>NM</th>\n",
       "      <td>25445.384615</td>\n",
       "    </tr>\n",
       "    <tr>\n",
       "      <th>WV</th>\n",
       "      <td>25360.600000</td>\n",
       "    </tr>\n",
       "    <tr>\n",
       "      <th>MT</th>\n",
       "      <td>24398.777778</td>\n",
       "    </tr>\n",
       "    <tr>\n",
       "      <th>HI</th>\n",
       "      <td>23695.555556</td>\n",
       "    </tr>\n",
       "    <tr>\n",
       "      <th>ID</th>\n",
       "      <td>23443.625000</td>\n",
       "    </tr>\n",
       "    <tr>\n",
       "      <th>MS</th>\n",
       "      <td>23434.941176</td>\n",
       "    </tr>\n",
       "    <tr>\n",
       "      <th>UT</th>\n",
       "      <td>22357.666667</td>\n",
       "    </tr>\n",
       "    <tr>\n",
       "      <th>AK</th>\n",
       "      <td>21914.000000</td>\n",
       "    </tr>\n",
       "    <tr>\n",
       "      <th>ND</th>\n",
       "      <td>20562.555556</td>\n",
       "    </tr>\n",
       "    <tr>\n",
       "      <th>WY</th>\n",
       "      <td>19169.000000</td>\n",
       "    </tr>\n",
       "  </tbody>\n",
       "</table>\n",
       "</div>"
      ],
      "text/plain": [
       "       avg_attendance_cost\n",
       "STATE                     \n",
       "NM            25445.384615\n",
       "WV            25360.600000\n",
       "MT            24398.777778\n",
       "HI            23695.555556\n",
       "ID            23443.625000\n",
       "MS            23434.941176\n",
       "UT            22357.666667\n",
       "AK            21914.000000\n",
       "ND            20562.555556\n",
       "WY            19169.000000"
      ]
     },
     "execution_count": 27,
     "metadata": {},
     "output_type": "execute_result"
    }
   ],
   "source": [
    "# output the top 10 and bottom 10 states by average cost of attendance\n",
    "df_state_avg_cost = state_avg_cost.to_frame(name='avg_attendance_cost')\n",
    "df_state_avg_cost.sort_values(by=['avg_attendance_cost'],ascending=False).head(10)\n",
    "df_state_avg_cost.sort_values(by=['avg_attendance_cost'],ascending=False).tail(10)"
   ]
  },
  {
   "cell_type": "markdown",
   "metadata": {},
   "source": [
    "#### Visualize the Availablity & Accessibility on Map"
   ]
  },
  {
   "cell_type": "markdown",
   "metadata": {},
   "source": [
    "Since it will be easier for the end users to interprete results by comparing maps of US, this section will visualize the above tables into US map for comparison.\n",
    "\n",
    "There are three dictionaries defined in the beginning for lookup purposes:\n",
    "\n",
    "    short_state_names: lookup between abbreviated state codes into actual state names\n",
    "    state_count_dict: lookup between abbreviated state codes into count of colleges\n",
    "    state_avg_cost_dict: lookup between abbreviated state codes into average cost of attendance\n",
    "    \n",
    "These dictionaries are used with Matplotlib's Basemap toolkits to create the map of US by state with hue denoting the count and cost of colleges aggregated on the state level."
   ]
  },
  {
   "cell_type": "code",
   "execution_count": 28,
   "metadata": {
    "collapsed": true
   },
   "outputs": [],
   "source": [
    "# create short_state_names dictionary for lookup between abbreviated state codes and state names\n",
    "short_state_names = {\n",
    "        'AK': 'Alaska',\n",
    "        'AL': 'Alabama',\n",
    "        'AR': 'Arkansas',\n",
    "        'AS': 'American Samoa',\n",
    "        'AZ': 'Arizona',\n",
    "        'CA': 'California',\n",
    "        'CO': 'Colorado',\n",
    "        'CT': 'Connecticut',\n",
    "        'DC': 'District of Columbia',\n",
    "        'DE': 'Delaware',\n",
    "        'FL': 'Florida',\n",
    "        'GA': 'Georgia',\n",
    "        'GU': 'Guam',\n",
    "        'HI': 'Hawaii',\n",
    "        'IA': 'Iowa',\n",
    "        'ID': 'Idaho',\n",
    "        'IL': 'Illinois',\n",
    "        'IN': 'Indiana',\n",
    "        'KS': 'Kansas',\n",
    "        'KY': 'Kentucky',\n",
    "        'LA': 'Louisiana',\n",
    "        'MA': 'Massachusetts',\n",
    "        'MD': 'Maryland',\n",
    "        'ME': 'Maine',\n",
    "        'MI': 'Michigan',\n",
    "        'MN': 'Minnesota',\n",
    "        'MO': 'Missouri',\n",
    "        'MP': 'Northern Mariana Islands',\n",
    "        'MS': 'Mississippi',\n",
    "        'MT': 'Montana',\n",
    "        'NA': 'National',\n",
    "        'NC': 'North Carolina',\n",
    "        'ND': 'North Dakota',\n",
    "        'NE': 'Nebraska',\n",
    "        'NH': 'New Hampshire',\n",
    "        'NJ': 'New Jersey',\n",
    "        'NM': 'New Mexico',\n",
    "        'NV': 'Nevada',\n",
    "        'NY': 'New York',\n",
    "        'OH': 'Ohio',\n",
    "        'OK': 'Oklahoma',\n",
    "        'OR': 'Oregon',\n",
    "        'PA': 'Pennsylvania',\n",
    "        'PR': 'Puerto Rico',\n",
    "        'RI': 'Rhode Island',\n",
    "        'SC': 'South Carolina',\n",
    "        'SD': 'South Dakota',\n",
    "        'TN': 'Tennessee',\n",
    "        'TX': 'Texas',\n",
    "        'UT': 'Utah',\n",
    "        'VA': 'Virginia',\n",
    "        'VI': 'Virgin Islands',\n",
    "        'VT': 'Vermont',\n",
    "        'WA': 'Washington',\n",
    "        'WI': 'Wisconsin',\n",
    "        'WV': 'West Virginia',\n",
    "        'WY': 'Wyoming',\n",
    "        'PR': 'Puerto Rico'\n",
    "}"
   ]
  },
  {
   "cell_type": "code",
   "execution_count": 29,
   "metadata": {
    "collapsed": true,
    "scrolled": true
   },
   "outputs": [],
   "source": [
    "# define dictionary for lookup between abbreviated state codes into count of colleges\n",
    "state_count = np.asarray(state_college_cnt.reset_index()).tolist()\n",
    "state_count_dict = dict(state_count)"
   ]
  },
  {
   "cell_type": "code",
   "execution_count": 30,
   "metadata": {
    "collapsed": true,
    "scrolled": true
   },
   "outputs": [],
   "source": [
    "# define dictionary for lookup between abbreviated state codes into average cost of attendance\n",
    "state_cost = np.asarray(state_avg_cost.reset_index()).tolist()\n",
    "state_avg_cost_dict = dict(state_cost)"
   ]
  },
  {
   "cell_type": "code",
   "execution_count": 31,
   "metadata": {
    "collapsed": true
   },
   "outputs": [],
   "source": [
    "# import libraries for graphing US map by state contours\n",
    "from mpl_toolkits.basemap import Basemap\n",
    "from geopy.geocoders import Nominatim\n",
    "import math\n",
    "from matplotlib.colors import rgb2hex, Normalize\n",
    "from matplotlib.patches import Polygon\n",
    "from matplotlib.colorbar import ColorbarBase"
   ]
  },
  {
   "cell_type": "markdown",
   "metadata": {},
   "source": [
    "*The Basemap package requires the download of st99_d00 shapefiles for contouring the states. The shapefiles are covered under the [license](https://github.com/matplotlib/basemap) of Basemap package, and it states \"Permission to use, copy, modify, and distribute this software and its documentation for any purpose and without fee is hereby granted, provided that the above copyright notices appear in all copies and that both the copyright notices and this permission notice appear in supporting documentation.\""
   ]
  },
  {
   "cell_type": "markdown",
   "metadata": {},
   "source": [
    "Through the maps below, we are easily and clearly see the difference of count and average cost across the US. I used reversed Red, Yellow and Green scale for coloring count of college and average cost of attendance. Since just by looking at the graph, users can see that New York and California offers more 4-year degree granting colleges, whereas states like Massachusetts and Vermont will cost more to attend colleges on average. Another interesting and reassuring read from the maps is that even though Wyoming only has one 4-year degree granting college available, the cost to attend that college is also the lowest across all states, giving their residents a better chance to attain higher education."
   ]
  },
  {
   "cell_type": "code",
   "execution_count": 32,
   "metadata": {},
   "outputs": [
    {
     "data": {
      "image/png": "[encoded data removed]",
      "text/plain": [
       "<matplotlib.figure.Figure at 0x1a20c59a20>"
      ]
     },
     "metadata": {},
     "output_type": "display_data"
    }
   ],
   "source": [
    "# the below chuck of code is used to plot the contour map of continental US states\n",
    "# as well as using hue to denote the difference in count of colleges in each state\n",
    "\n",
    "# define fig and ax for plotting\n",
    "fig, ax = plt.subplots()\n",
    "\n",
    "# define map variable to load shape file and draw bounds\n",
    "map = Basemap(llcrnrlon=-119,llcrnrlat=20,urcrnrlon=-64,urcrnrlat=49,\n",
    "        projection='lcc',lat_1=33,lat_2=45,lon_0=-95)\n",
    "\n",
    "# load the shapefile, use the name 'states' to call states\n",
    "map.readshapefile('st99_d00', name='states', drawbounds=True)\n",
    "\n",
    "# use colors as Red, Yellow, Green hue to denote higher counts to lower counts\n",
    "colors={}\n",
    "statenames=[]\n",
    "cmap = plt.cm.RdYlGn\n",
    "\n",
    "vmin = 0; vmax = 175 # set range as the highest count to the lowest count\n",
    "norm = Normalize(vmin=vmin, vmax=vmax) # normalize the min and max for math calculation\n",
    "\n",
    "# Loop through each state to draw the contours and color the states\n",
    "# Since we are only concerned with continental US, we are skipping Puerto Rico in the loop\n",
    "for shapedict in map.states_info:\n",
    "    statename = shapedict['NAME']\n",
    "    # Skip Puerto Rico.\n",
    "    if statename not in ['Puerto Rico']:\n",
    "        state = [key for key, value in short_state_names.items() if value == statename][0]\n",
    "        count = state_count_dict[state] #6\n",
    "    # Skip Puerto Rico.\n",
    "    if statename not in ['Puerto Rico']:\n",
    "        # calling colormap with values between 0 and 1 returns rgba value.\n",
    "        colors[statename] = cmap(np.sqrt((count-vmin)/(vmax-vmin)))[:3]\n",
    "    statenames.append(statename)\n",
    "\n",
    "for nshape,seg in enumerate(map.states):\n",
    "    # Skip Puerto Rico.\n",
    "    if statenames[nshape] not in ['Puerto Rico']:\n",
    "        color = rgb2hex(colors[statenames[nshape]])       \n",
    "        poly = Polygon(seg,facecolor=color,edgecolor=color)\n",
    "        ax.add_patch(poly)\n",
    "        \n",
    "# construct a colorbar for scale\n",
    "cax = fig.add_axes([0.27, 0.1, 0.5, 0.05]) # posititon of the color bar\n",
    "cb = ColorbarBase(cax,cmap=cmap,norm=norm, orientation='horizontal')\n",
    "cb.ax.set_xlabel('Count of Colleges by States',fontsize=20)\n",
    "\n",
    "plt.show();"
   ]
  },
  {
   "cell_type": "code",
   "execution_count": 33,
   "metadata": {},
   "outputs": [
    {
     "data": {
      "image/png": "[encoded data removed]",
      "text/plain": [
       "<matplotlib.figure.Figure at 0x1a18130b00>"
      ]
     },
     "metadata": {},
     "output_type": "display_data"
    }
   ],
   "source": [
    "# the below chuck of code is used to plot the contour map of continental US states\n",
    "# as well as using hue to denote the difference in average cost of attendance in each state\n",
    "\n",
    "# define fig and ax for plotting\n",
    "fig, ax = plt.subplots()\n",
    "\n",
    "# define map variable to load shape file and draw bounds\n",
    "map = Basemap(llcrnrlon=-119,llcrnrlat=20,urcrnrlon=-64,urcrnrlat=49,\n",
    "        projection='lcc',lat_1=33,lat_2=45,lon_0=-95)\n",
    "\n",
    "# load the shapefile, use the name 'states' to call states\n",
    "map.readshapefile('st99_d00', name='states', drawbounds=True)\n",
    "\n",
    "# use colors as Red, Yellow, Green hue to denote higher avg cost to lower avg cost\n",
    "colors={}\n",
    "statenames=[]\n",
    "cmap = plt.cm.RdYlGn_r \n",
    "\n",
    "vmin = 20000; vmax = 45000 # set range as the highest avg cost to the lowest avg cost\n",
    "norm = Normalize(vmin=vmin, vmax=vmax) # normalize the min and max for math calculation\n",
    "\n",
    "# Loop through each state to draw the contours and color the states\n",
    "# Since we are only concerned with continental US, we are skipping Puerto Rico in the loop\n",
    "for shapedict in map.states_info:\n",
    "    statename = shapedict['NAME']\n",
    "    # Skip Puerto Rico.\n",
    "    if statename not in ['Puerto Rico']:\n",
    "        state = [key for key, value in short_state_names.items() if value == statename][0]\n",
    "        cost = state_avg_cost_dict[state] #6\n",
    "    # Skip Puerto Rico.\n",
    "    if statename not in ['Puerto Rico']:\n",
    "        # calling colormap with values between 0 and 1 returns rgba value.\n",
    "        colors[statename] = cmap(np.sqrt((cost-vmin)/(vmax-vmin)))[:3]\n",
    "    statenames.append(statename)\n",
    "\n",
    "for nshape,seg in enumerate(map.states):\n",
    "    # Skip Puerto Rico.\n",
    "    if statenames[nshape] not in ['Puerto Rico']:\n",
    "        color = rgb2hex(colors[statenames[nshape]])       \n",
    "        poly = Polygon(seg,facecolor=color,edgecolor=color)\n",
    "        ax.add_patch(poly)\n",
    "        \n",
    "# construct a colorbar for scale\n",
    "cax = fig.add_axes([0.27, 0.1, 0.5, 0.05]) # posititon of the color bar\n",
    "cb = ColorbarBase(cax,cmap=cmap,norm=norm, orientation='horizontal')\n",
    "cb.ax.set_xlabel('Average Cost of Enrollment by States',fontsize=20)\n",
    "\n",
    "plt.show();"
   ]
  },
  {
   "cell_type": "markdown",
   "metadata": {},
   "source": [
    "#### RQ2: How does racial diversity change by different types of colleges (public vs. private) and different regions?"
   ]
  },
  {
   "cell_type": "markdown",
   "metadata": {},
   "source": [
    "Racial diversity is an important consideration for international students when applying to colleges, this section will segment racial diversity compostion by types of colleges and regions to help users get a visualized distribution of diversity index. \n",
    "\n",
    "For easier interpretation, there will be two additional data preparation steps:\n",
    "\n",
    "    1. Create a new dataframe to only include REGION, CONTROL and Racial information.\n",
    "        ['Institution_Name','REGION_RENAME','CONTROL','UG',\n",
    "         'Non_Resident_Alien','Unknown_Race','White','Black',\n",
    "         'Asian_Pacific_Islander','Native_American','Hispanic']\n",
    "    2. Merge two kinds of Private control into 'Private' for easier side-by-side comparison.\n",
    "        ['CONTROL']:\n",
    "            1:Public\n",
    "            2:Private nonprofit\n",
    "            3:Private for-profit\n",
    "        Merged as ['CONTROL_MERGED']:\n",
    "            'Private'\n",
    "            'Public'"
   ]
  },
  {
   "cell_type": "code",
   "execution_count": 34,
   "metadata": {
    "collapsed": true
   },
   "outputs": [],
   "source": [
    "# create a dataframe that only include school name, control, undergraduate racial composition\n",
    "racial_composition = scorecard_clean[['Institution_Name','REGION_RENAME','CONTROL','UG',\n",
    "                                      'Non_Resident_Alien','Unknown_Race','White','Black',\n",
    "                                      'Asian_Pacific_Islander','Native_American','Hispanic']]"
   ]
  },
  {
   "cell_type": "code",
   "execution_count": 35,
   "metadata": {},
   "outputs": [
    {
     "data": {
      "text/plain": [
       "(2062, 11)"
      ]
     },
     "execution_count": 35,
     "metadata": {},
     "output_type": "execute_result"
    },
    {
     "data": {
      "text/html": [
       "<div>\n",
       "<style scoped>\n",
       "    .dataframe tbody tr th:only-of-type {\n",
       "        vertical-align: middle;\n",
       "    }\n",
       "\n",
       "    .dataframe tbody tr th {\n",
       "        vertical-align: top;\n",
       "    }\n",
       "\n",
       "    .dataframe thead th {\n",
       "        text-align: right;\n",
       "    }\n",
       "</style>\n",
       "<table border=\"1\" class=\"dataframe\">\n",
       "  <thead>\n",
       "    <tr style=\"text-align: right;\">\n",
       "      <th></th>\n",
       "      <th>Institution_Name</th>\n",
       "      <th>REGION_RENAME</th>\n",
       "      <th>CONTROL</th>\n",
       "      <th>UG</th>\n",
       "      <th>Non_Resident_Alien</th>\n",
       "      <th>Unknown_Race</th>\n",
       "      <th>White</th>\n",
       "      <th>Black</th>\n",
       "      <th>Asian_Pacific_Islander</th>\n",
       "      <th>Native_American</th>\n",
       "      <th>Hispanic</th>\n",
       "    </tr>\n",
       "  </thead>\n",
       "  <tbody>\n",
       "    <tr>\n",
       "      <th>0</th>\n",
       "      <td>Alabama A &amp; M University</td>\n",
       "      <td>Southeast</td>\n",
       "      <td>1</td>\n",
       "      <td>4380.0</td>\n",
       "      <td>0.0388</td>\n",
       "      <td>0.0014</td>\n",
       "      <td>0.0459</td>\n",
       "      <td>0.9055</td>\n",
       "      <td>0.0030</td>\n",
       "      <td>0.0027</td>\n",
       "      <td>0.0027</td>\n",
       "    </tr>\n",
       "    <tr>\n",
       "      <th>1</th>\n",
       "      <td>University of Alabama at Birmingham</td>\n",
       "      <td>Southeast</td>\n",
       "      <td>1</td>\n",
       "      <td>10331.0</td>\n",
       "      <td>0.0331</td>\n",
       "      <td>0.0266</td>\n",
       "      <td>0.6124</td>\n",
       "      <td>0.2861</td>\n",
       "      <td>0.0286</td>\n",
       "      <td>0.0031</td>\n",
       "      <td>0.0101</td>\n",
       "    </tr>\n",
       "    <tr>\n",
       "      <th>2</th>\n",
       "      <td>Amridge University</td>\n",
       "      <td>Southeast</td>\n",
       "      <td>2</td>\n",
       "      <td>98.0</td>\n",
       "      <td>0.0000</td>\n",
       "      <td>0.0000</td>\n",
       "      <td>0.6837</td>\n",
       "      <td>0.2347</td>\n",
       "      <td>0.0204</td>\n",
       "      <td>0.0000</td>\n",
       "      <td>0.0612</td>\n",
       "    </tr>\n",
       "    <tr>\n",
       "      <th>3</th>\n",
       "      <td>University of Alabama in Huntsville</td>\n",
       "      <td>Southeast</td>\n",
       "      <td>1</td>\n",
       "      <td>5220.0</td>\n",
       "      <td>0.0410</td>\n",
       "      <td>0.0487</td>\n",
       "      <td>0.6912</td>\n",
       "      <td>0.1435</td>\n",
       "      <td>0.0366</td>\n",
       "      <td>0.0205</td>\n",
       "      <td>0.0186</td>\n",
       "    </tr>\n",
       "    <tr>\n",
       "      <th>4</th>\n",
       "      <td>Alabama State University</td>\n",
       "      <td>Southeast</td>\n",
       "      <td>1</td>\n",
       "      <td>4348.0</td>\n",
       "      <td>0.0030</td>\n",
       "      <td>0.0313</td>\n",
       "      <td>0.0435</td>\n",
       "      <td>0.9172</td>\n",
       "      <td>0.0018</td>\n",
       "      <td>0.0005</td>\n",
       "      <td>0.0028</td>\n",
       "    </tr>\n",
       "  </tbody>\n",
       "</table>\n",
       "</div>"
      ],
      "text/plain": [
       "                      Institution_Name REGION_RENAME  CONTROL       UG  \\\n",
       "0             Alabama A & M University     Southeast        1   4380.0   \n",
       "1  University of Alabama at Birmingham     Southeast        1  10331.0   \n",
       "2                   Amridge University     Southeast        2     98.0   \n",
       "3  University of Alabama in Huntsville     Southeast        1   5220.0   \n",
       "4             Alabama State University     Southeast        1   4348.0   \n",
       "\n",
       "   Non_Resident_Alien  Unknown_Race   White   Black  Asian_Pacific_Islander  \\\n",
       "0              0.0388        0.0014  0.0459  0.9055                  0.0030   \n",
       "1              0.0331        0.0266  0.6124  0.2861                  0.0286   \n",
       "2              0.0000        0.0000  0.6837  0.2347                  0.0204   \n",
       "3              0.0410        0.0487  0.6912  0.1435                  0.0366   \n",
       "4              0.0030        0.0313  0.0435  0.9172                  0.0018   \n",
       "\n",
       "   Native_American  Hispanic  \n",
       "0           0.0027    0.0027  \n",
       "1           0.0031    0.0101  \n",
       "2           0.0000    0.0612  \n",
       "3           0.0205    0.0186  \n",
       "4           0.0005    0.0028  "
      ]
     },
     "execution_count": 35,
     "metadata": {},
     "output_type": "execute_result"
    }
   ],
   "source": [
    "racial_composition.shape\n",
    "racial_composition.head()"
   ]
  },
  {
   "cell_type": "code",
   "execution_count": 36,
   "metadata": {},
   "outputs": [
    {
     "data": {
      "text/plain": [
       "array([1, 2, 3])"
      ]
     },
     "execution_count": 36,
     "metadata": {},
     "output_type": "execute_result"
    }
   ],
   "source": [
    "# check unique values of CONTROL before merging\n",
    "racial_composition.CONTROL.unique()"
   ]
  },
  {
   "cell_type": "code",
   "execution_count": 37,
   "metadata": {
    "collapsed": true
   },
   "outputs": [],
   "source": [
    "# merge control 2 and 3 into Private and the rest as Public\n",
    "racial_composition['CONTROL_MERGED'] = np.where(racial_composition['CONTROL'].isin([2,3]), 'Private','Public')"
   ]
  },
  {
   "cell_type": "code",
   "execution_count": 38,
   "metadata": {},
   "outputs": [
    {
     "data": {
      "text/html": [
       "<div>\n",
       "<style scoped>\n",
       "    .dataframe tbody tr th:only-of-type {\n",
       "        vertical-align: middle;\n",
       "    }\n",
       "\n",
       "    .dataframe tbody tr th {\n",
       "        vertical-align: top;\n",
       "    }\n",
       "\n",
       "    .dataframe thead th {\n",
       "        text-align: right;\n",
       "    }\n",
       "</style>\n",
       "<table border=\"1\" class=\"dataframe\">\n",
       "  <thead>\n",
       "    <tr style=\"text-align: right;\">\n",
       "      <th></th>\n",
       "      <th>Institution_Name</th>\n",
       "      <th>REGION_RENAME</th>\n",
       "      <th>CONTROL</th>\n",
       "      <th>UG</th>\n",
       "      <th>Non_Resident_Alien</th>\n",
       "      <th>Unknown_Race</th>\n",
       "      <th>White</th>\n",
       "      <th>Black</th>\n",
       "      <th>Asian_Pacific_Islander</th>\n",
       "      <th>Native_American</th>\n",
       "      <th>Hispanic</th>\n",
       "      <th>CONTROL_MERGED</th>\n",
       "    </tr>\n",
       "  </thead>\n",
       "  <tbody>\n",
       "    <tr>\n",
       "      <th>0</th>\n",
       "      <td>Alabama A &amp; M University</td>\n",
       "      <td>Southeast</td>\n",
       "      <td>1</td>\n",
       "      <td>4380.0</td>\n",
       "      <td>0.0388</td>\n",
       "      <td>0.0014</td>\n",
       "      <td>0.0459</td>\n",
       "      <td>0.9055</td>\n",
       "      <td>0.0030</td>\n",
       "      <td>0.0027</td>\n",
       "      <td>0.0027</td>\n",
       "      <td>Public</td>\n",
       "    </tr>\n",
       "    <tr>\n",
       "      <th>1</th>\n",
       "      <td>University of Alabama at Birmingham</td>\n",
       "      <td>Southeast</td>\n",
       "      <td>1</td>\n",
       "      <td>10331.0</td>\n",
       "      <td>0.0331</td>\n",
       "      <td>0.0266</td>\n",
       "      <td>0.6124</td>\n",
       "      <td>0.2861</td>\n",
       "      <td>0.0286</td>\n",
       "      <td>0.0031</td>\n",
       "      <td>0.0101</td>\n",
       "      <td>Public</td>\n",
       "    </tr>\n",
       "    <tr>\n",
       "      <th>2</th>\n",
       "      <td>Amridge University</td>\n",
       "      <td>Southeast</td>\n",
       "      <td>2</td>\n",
       "      <td>98.0</td>\n",
       "      <td>0.0000</td>\n",
       "      <td>0.0000</td>\n",
       "      <td>0.6837</td>\n",
       "      <td>0.2347</td>\n",
       "      <td>0.0204</td>\n",
       "      <td>0.0000</td>\n",
       "      <td>0.0612</td>\n",
       "      <td>Private</td>\n",
       "    </tr>\n",
       "    <tr>\n",
       "      <th>3</th>\n",
       "      <td>University of Alabama in Huntsville</td>\n",
       "      <td>Southeast</td>\n",
       "      <td>1</td>\n",
       "      <td>5220.0</td>\n",
       "      <td>0.0410</td>\n",
       "      <td>0.0487</td>\n",
       "      <td>0.6912</td>\n",
       "      <td>0.1435</td>\n",
       "      <td>0.0366</td>\n",
       "      <td>0.0205</td>\n",
       "      <td>0.0186</td>\n",
       "      <td>Public</td>\n",
       "    </tr>\n",
       "    <tr>\n",
       "      <th>4</th>\n",
       "      <td>Alabama State University</td>\n",
       "      <td>Southeast</td>\n",
       "      <td>1</td>\n",
       "      <td>4348.0</td>\n",
       "      <td>0.0030</td>\n",
       "      <td>0.0313</td>\n",
       "      <td>0.0435</td>\n",
       "      <td>0.9172</td>\n",
       "      <td>0.0018</td>\n",
       "      <td>0.0005</td>\n",
       "      <td>0.0028</td>\n",
       "      <td>Public</td>\n",
       "    </tr>\n",
       "  </tbody>\n",
       "</table>\n",
       "</div>"
      ],
      "text/plain": [
       "                      Institution_Name REGION_RENAME  CONTROL       UG  \\\n",
       "0             Alabama A & M University     Southeast        1   4380.0   \n",
       "1  University of Alabama at Birmingham     Southeast        1  10331.0   \n",
       "2                   Amridge University     Southeast        2     98.0   \n",
       "3  University of Alabama in Huntsville     Southeast        1   5220.0   \n",
       "4             Alabama State University     Southeast        1   4348.0   \n",
       "\n",
       "   Non_Resident_Alien  Unknown_Race   White   Black  Asian_Pacific_Islander  \\\n",
       "0              0.0388        0.0014  0.0459  0.9055                  0.0030   \n",
       "1              0.0331        0.0266  0.6124  0.2861                  0.0286   \n",
       "2              0.0000        0.0000  0.6837  0.2347                  0.0204   \n",
       "3              0.0410        0.0487  0.6912  0.1435                  0.0366   \n",
       "4              0.0030        0.0313  0.0435  0.9172                  0.0018   \n",
       "\n",
       "   Native_American  Hispanic CONTROL_MERGED  \n",
       "0           0.0027    0.0027         Public  \n",
       "1           0.0031    0.0101         Public  \n",
       "2           0.0000    0.0612        Private  \n",
       "3           0.0205    0.0186         Public  \n",
       "4           0.0005    0.0028         Public  "
      ]
     },
     "execution_count": 38,
     "metadata": {},
     "output_type": "execute_result"
    }
   ],
   "source": [
    "racial_composition.head()"
   ]
  },
  {
   "cell_type": "markdown",
   "metadata": {},
   "source": [
    "* **Racial Diversity By Control Types**: We can see from the bar chart below, public schools have a higher percentage of all minority groups in terms of races (Black, Asian, Pacific Islander, Native American and Hispanic), whereas private schools have higher percentage of White students. One thing to point out here, which was not hypothesized in the project plan, is the fact that private schools have a significantly higher percentage of non resident alien students. One reason behind this is that public schools are targeted to provide higher education to citizens and residents within the state for funding reasons, while private school does not have residents in the each state as a priority. The students selection process and composition is therefore different between these two types of school controls. As an international student, it might be better to apply to more private schools than public schools, both for a higher chance of admission and a more diverse student body."
   ]
  },
  {
   "cell_type": "code",
   "execution_count": 39,
   "metadata": {},
   "outputs": [
    {
     "data": {
      "text/html": [
       "<div>\n",
       "<style scoped>\n",
       "    .dataframe tbody tr th:only-of-type {\n",
       "        vertical-align: middle;\n",
       "    }\n",
       "\n",
       "    .dataframe tbody tr th {\n",
       "        vertical-align: top;\n",
       "    }\n",
       "\n",
       "    .dataframe thead th {\n",
       "        text-align: right;\n",
       "    }\n",
       "</style>\n",
       "<table border=\"1\" class=\"dataframe\">\n",
       "  <thead>\n",
       "    <tr style=\"text-align: right;\">\n",
       "      <th>CONTROL_MERGED</th>\n",
       "      <th>Private</th>\n",
       "      <th>Public</th>\n",
       "    </tr>\n",
       "  </thead>\n",
       "  <tbody>\n",
       "    <tr>\n",
       "      <th>Non_Resident_Alien</th>\n",
       "      <td>0.034417</td>\n",
       "      <td>0.019693</td>\n",
       "    </tr>\n",
       "    <tr>\n",
       "      <th>Unknown_Race</th>\n",
       "      <td>0.054785</td>\n",
       "      <td>0.036158</td>\n",
       "    </tr>\n",
       "    <tr>\n",
       "      <th>White</th>\n",
       "      <td>0.713327</td>\n",
       "      <td>0.692580</td>\n",
       "    </tr>\n",
       "    <tr>\n",
       "      <th>Black</th>\n",
       "      <td>0.108001</td>\n",
       "      <td>0.135379</td>\n",
       "    </tr>\n",
       "    <tr>\n",
       "      <th>Asian_Pacific_Islander</th>\n",
       "      <td>0.034202</td>\n",
       "      <td>0.043042</td>\n",
       "    </tr>\n",
       "    <tr>\n",
       "      <th>Native_American</th>\n",
       "      <td>0.006041</td>\n",
       "      <td>0.013307</td>\n",
       "    </tr>\n",
       "    <tr>\n",
       "      <th>Hispanic</th>\n",
       "      <td>0.047533</td>\n",
       "      <td>0.058033</td>\n",
       "    </tr>\n",
       "  </tbody>\n",
       "</table>\n",
       "</div>"
      ],
      "text/plain": [
       "CONTROL_MERGED           Private    Public\n",
       "Non_Resident_Alien      0.034417  0.019693\n",
       "Unknown_Race            0.054785  0.036158\n",
       "White                   0.713327  0.692580\n",
       "Black                   0.108001  0.135379\n",
       "Asian_Pacific_Islander  0.034202  0.043042\n",
       "Native_American         0.006041  0.013307\n",
       "Hispanic                0.047533  0.058033"
      ]
     },
     "execution_count": 39,
     "metadata": {},
     "output_type": "execute_result"
    }
   ],
   "source": [
    "# pivot the dataframe to calculate mean racial composition by Private and Public Schools\n",
    "pivot_racial = racial_composition.groupby('CONTROL_MERGED').agg({'Non_Resident_Alien':'mean',\n",
    "                                                                 'Unknown_Race':'mean', \n",
    "                                                                 'White':'mean','Black':'mean',\n",
    "                                                                 'Asian_Pacific_Islander':'mean',\n",
    "                                                                 'Native_American':'mean','Hispanic':'mean'})\n",
    "# Transpose the pivot for side-by-side comparison\n",
    "pivot_racial = pivot_racial.T\n",
    "pivot_racial"
   ]
  },
  {
   "cell_type": "code",
   "execution_count": 40,
   "metadata": {},
   "outputs": [
    {
     "data": {
      "image/png": "[encoded data removed]",
      "text/plain": [
       "<matplotlib.figure.Figure at 0x1a163521d0>"
      ]
     },
     "metadata": {},
     "output_type": "display_data"
    }
   ],
   "source": [
    "# Use bar chart to compare each race between Private and Public Schools\n",
    "pivot_racial.plot(kind='barh', grid=True)\n",
    "plt.xlabel('Percent of Race',fontsize=15)\n",
    "plt.ylabel('Race',fontsize=15)\n",
    "plt.title('Percent of Race By Private vs. Public Institutions',fontsize=20)\n",
    "plt.show();"
   ]
  },
  {
   "cell_type": "markdown",
   "metadata": {},
   "source": [
    "* **Racial Diversity By Regions**: It is very clear from the below stacked bar chart that Far West and Southwest has the most racial diverse student body. The diversity is different in regions, Far West has more Asian/Pacific Islander and Hispanic whereas Southwest has more Black students. As international students, users can see that Far West also has the biggest percentage for Non_resident_alien students. "
   ]
  },
  {
   "cell_type": "code",
   "execution_count": 41,
   "metadata": {},
   "outputs": [
    {
     "data": {
      "text/html": [
       "<div>\n",
       "<style scoped>\n",
       "    .dataframe tbody tr th:only-of-type {\n",
       "        vertical-align: middle;\n",
       "    }\n",
       "\n",
       "    .dataframe tbody tr th {\n",
       "        vertical-align: top;\n",
       "    }\n",
       "\n",
       "    .dataframe thead th {\n",
       "        text-align: right;\n",
       "    }\n",
       "</style>\n",
       "<table border=\"1\" class=\"dataframe\">\n",
       "  <thead>\n",
       "    <tr style=\"text-align: right;\">\n",
       "      <th></th>\n",
       "      <th>White</th>\n",
       "      <th>Black</th>\n",
       "      <th>Asian_Pacific_Islander</th>\n",
       "      <th>Native_American</th>\n",
       "      <th>Hispanic</th>\n",
       "      <th>Non_Resident_Alien</th>\n",
       "      <th>Unknown_Race</th>\n",
       "    </tr>\n",
       "    <tr>\n",
       "      <th>REGION_RENAME</th>\n",
       "      <th></th>\n",
       "      <th></th>\n",
       "      <th></th>\n",
       "      <th></th>\n",
       "      <th></th>\n",
       "      <th></th>\n",
       "      <th></th>\n",
       "    </tr>\n",
       "  </thead>\n",
       "  <tbody>\n",
       "    <tr>\n",
       "      <th>Far West</th>\n",
       "      <td>0.566105</td>\n",
       "      <td>0.047676</td>\n",
       "      <td>0.121765</td>\n",
       "      <td>0.012294</td>\n",
       "      <td>0.108322</td>\n",
       "      <td>0.049702</td>\n",
       "      <td>0.088665</td>\n",
       "    </tr>\n",
       "    <tr>\n",
       "      <th>Great Lakes</th>\n",
       "      <td>0.790421</td>\n",
       "      <td>0.089671</td>\n",
       "      <td>0.024524</td>\n",
       "      <td>0.004233</td>\n",
       "      <td>0.031528</td>\n",
       "      <td>0.022611</td>\n",
       "      <td>0.037021</td>\n",
       "    </tr>\n",
       "    <tr>\n",
       "      <th>Mid East</th>\n",
       "      <td>0.715334</td>\n",
       "      <td>0.112079</td>\n",
       "      <td>0.038292</td>\n",
       "      <td>0.002645</td>\n",
       "      <td>0.047669</td>\n",
       "      <td>0.027805</td>\n",
       "      <td>0.053349</td>\n",
       "    </tr>\n",
       "    <tr>\n",
       "      <th>New England</th>\n",
       "      <td>0.740920</td>\n",
       "      <td>0.044944</td>\n",
       "      <td>0.038048</td>\n",
       "      <td>0.005426</td>\n",
       "      <td>0.034781</td>\n",
       "      <td>0.042057</td>\n",
       "      <td>0.093823</td>\n",
       "    </tr>\n",
       "    <tr>\n",
       "      <th>Plains</th>\n",
       "      <td>0.836957</td>\n",
       "      <td>0.047241</td>\n",
       "      <td>0.022354</td>\n",
       "      <td>0.009137</td>\n",
       "      <td>0.019738</td>\n",
       "      <td>0.024489</td>\n",
       "      <td>0.040080</td>\n",
       "    </tr>\n",
       "    <tr>\n",
       "      <th>Rocky Mountains</th>\n",
       "      <td>0.773800</td>\n",
       "      <td>0.021608</td>\n",
       "      <td>0.022675</td>\n",
       "      <td>0.019878</td>\n",
       "      <td>0.047918</td>\n",
       "      <td>0.036243</td>\n",
       "      <td>0.077882</td>\n",
       "    </tr>\n",
       "    <tr>\n",
       "      <th>Southeast</th>\n",
       "      <td>0.659998</td>\n",
       "      <td>0.241166</td>\n",
       "      <td>0.016284</td>\n",
       "      <td>0.004449</td>\n",
       "      <td>0.028605</td>\n",
       "      <td>0.026268</td>\n",
       "      <td>0.023233</td>\n",
       "    </tr>\n",
       "    <tr>\n",
       "      <th>Southwest</th>\n",
       "      <td>0.596692</td>\n",
       "      <td>0.120544</td>\n",
       "      <td>0.030446</td>\n",
       "      <td>0.036151</td>\n",
       "      <td>0.150834</td>\n",
       "      <td>0.023401</td>\n",
       "      <td>0.034415</td>\n",
       "    </tr>\n",
       "  </tbody>\n",
       "</table>\n",
       "</div>"
      ],
      "text/plain": [
       "                    White     Black  Asian_Pacific_Islander  Native_American  \\\n",
       "REGION_RENAME                                                                  \n",
       "Far West         0.566105  0.047676                0.121765         0.012294   \n",
       "Great Lakes      0.790421  0.089671                0.024524         0.004233   \n",
       "Mid East         0.715334  0.112079                0.038292         0.002645   \n",
       "New England      0.740920  0.044944                0.038048         0.005426   \n",
       "Plains           0.836957  0.047241                0.022354         0.009137   \n",
       "Rocky Mountains  0.773800  0.021608                0.022675         0.019878   \n",
       "Southeast        0.659998  0.241166                0.016284         0.004449   \n",
       "Southwest        0.596692  0.120544                0.030446         0.036151   \n",
       "\n",
       "                 Hispanic  Non_Resident_Alien  Unknown_Race  \n",
       "REGION_RENAME                                                \n",
       "Far West         0.108322            0.049702      0.088665  \n",
       "Great Lakes      0.031528            0.022611      0.037021  \n",
       "Mid East         0.047669            0.027805      0.053349  \n",
       "New England      0.034781            0.042057      0.093823  \n",
       "Plains           0.019738            0.024489      0.040080  \n",
       "Rocky Mountains  0.047918            0.036243      0.077882  \n",
       "Southeast        0.028605            0.026268      0.023233  \n",
       "Southwest        0.150834            0.023401      0.034415  "
      ]
     },
     "execution_count": 41,
     "metadata": {},
     "output_type": "execute_result"
    }
   ],
   "source": [
    "# pivot the dataframe to calculate mean racial composition by Regions\n",
    "pivot_region = racial_composition.groupby('REGION_RENAME').agg({'White':'mean','Black':'mean',\n",
    "                                                                'Asian_Pacific_Islander':'mean',\n",
    "                                                                'Native_American':'mean',\n",
    "                                                                'Hispanic':'mean',\n",
    "                                                                'Non_Resident_Alien':'mean','Unknown_Race':'mean'})\n",
    "pivot_region"
   ]
  },
  {
   "cell_type": "code",
   "execution_count": 42,
   "metadata": {},
   "outputs": [
    {
     "data": {
      "image/png": "[encoded data removed]",
      "text/plain": [
       "<matplotlib.figure.Figure at 0x1a145a2438>"
      ]
     },
     "metadata": {},
     "output_type": "display_data"
    }
   ],
   "source": [
    "# Use stacked bar chart to compare racial composition across difference regions\n",
    "pivot_region.plot.bar(stacked=True)\n",
    "plt.ylabel('Percent of Race',fontsize=15)\n",
    "plt.xlabel('Region',fontsize=15)\n",
    "plt.title('Percent of Race By Region',fontsize=20)\n",
    "plt.show();"
   ]
  },
  {
   "cell_type": "markdown",
   "metadata": {},
   "source": [
    "#### RQ3: What are factors for higher post-school earnings?"
   ]
  },
  {
   "cell_type": "markdown",
   "metadata": {},
   "source": [
    "In order to make the regression models meaningful, we need to do one last step of data preparation before building a regression model to determine what factors are potential indicators of higher post-school earnings. We will be joining scorecard_clean and earnings data after removing all the Null and 'PrivacySuppressed' values from earning dataframe.\n",
    "\n",
    "We will only keep variables that are relevant to answer this question, we are using Median measures for post-school earnings since it is able to represent less skewed earnings.\n",
    "\n",
    "    scorecard_limited: ['Institution_Name','STATE','CONTROL','ADM_RATE','COSTT4_A','AVGFACSAL','PCTFLOAN']\n",
    "    earning_limited: ['Institution_Name','UNEMP_RATE','MD_EARN_WNE_P10','MD_EARN_WNE_P6']\n",
    "    \n",
    "We again will combine control type into only Private vs. Public to facilitate side-by-side comparisons."
   ]
  },
  {
   "cell_type": "code",
   "execution_count": 43,
   "metadata": {},
   "outputs": [
    {
     "data": {
      "text/plain": [
       "(2062, 25)"
      ]
     },
     "execution_count": 43,
     "metadata": {},
     "output_type": "execute_result"
    },
    {
     "data": {
      "text/plain": [
       "(7175, 20)"
      ]
     },
     "execution_count": 43,
     "metadata": {},
     "output_type": "execute_result"
    },
    {
     "data": {
      "text/plain": [
       "(5059, 4)"
      ]
     },
     "execution_count": 43,
     "metadata": {},
     "output_type": "execute_result"
    }
   ],
   "source": [
    "# limiting both scorecard data and earnings data to include only relevant variables\n",
    "# remove Null and PrivacySuppressed values in earnings data for later regression model\n",
    "scorecard_clean.shape\n",
    "earning_clean.shape\n",
    "scorecard_limited = scorecard_clean[['Institution_Name','STATE','CONTROL','ADM_RATE','COSTT4_A','AVGFACSAL','PCTFLOAN']]\n",
    "earning_limited = earning_clean[['Institution_Name','UNEMP_RATE','MD_EARN_WNE_P10','MD_EARN_WNE_P6']].dropna()\n",
    "earning_limited.shape"
   ]
  },
  {
   "cell_type": "code",
   "execution_count": 44,
   "metadata": {},
   "outputs": [
    {
     "data": {
      "text/plain": [
       "(2062, 7)"
      ]
     },
     "execution_count": 44,
     "metadata": {},
     "output_type": "execute_result"
    }
   ],
   "source": [
    "# merging two types of private schools into just Private vs. Public\n",
    "# we will then drop the original int type of CONTROL after merging\n",
    "scorecard_limited['CONTROL_MERGED'] = np.where(scorecard_limited['CONTROL'].isin([2,3]), 'Private','Public')\n",
    "scorecard_limited = scorecard_limited.drop(['CONTROL'],axis=1)\n",
    "scorecard_limited.shape"
   ]
  },
  {
   "cell_type": "markdown",
   "metadata": {},
   "source": [
    "In order to analysis school metrics with earning metrics, we are merging scorecard data with earning data by school names. Since we removed data points due to Null values, the merged dataframe contains 1488 rows(schools) and 10 columns(metric variables) for regression analysis."
   ]
  },
  {
   "cell_type": "code",
   "execution_count": 45,
   "metadata": {
    "collapsed": true
   },
   "outputs": [],
   "source": [
    "# merging scorecard_limited and earning_limited on Institution_Name to create dataframe for regression\n",
    "earning_analysis = scorecard_limited.merge(earning_limited, how='inner', \n",
    "                                           left_on='Institution_Name', \n",
    "                                           right_on='Institution_Name')"
   ]
  },
  {
   "cell_type": "code",
   "execution_count": 46,
   "metadata": {},
   "outputs": [
    {
     "data": {
      "text/plain": [
       "(1488, 10)"
      ]
     },
     "execution_count": 46,
     "metadata": {},
     "output_type": "execute_result"
    },
    {
     "data": {
      "text/html": [
       "<div>\n",
       "<style scoped>\n",
       "    .dataframe tbody tr th:only-of-type {\n",
       "        vertical-align: middle;\n",
       "    }\n",
       "\n",
       "    .dataframe tbody tr th {\n",
       "        vertical-align: top;\n",
       "    }\n",
       "\n",
       "    .dataframe thead th {\n",
       "        text-align: right;\n",
       "    }\n",
       "</style>\n",
       "<table border=\"1\" class=\"dataframe\">\n",
       "  <thead>\n",
       "    <tr style=\"text-align: right;\">\n",
       "      <th></th>\n",
       "      <th>Institution_Name</th>\n",
       "      <th>STATE</th>\n",
       "      <th>ADM_RATE</th>\n",
       "      <th>COSTT4_A</th>\n",
       "      <th>AVGFACSAL</th>\n",
       "      <th>PCTFLOAN</th>\n",
       "      <th>CONTROL_MERGED</th>\n",
       "      <th>UNEMP_RATE</th>\n",
       "      <th>MD_EARN_WNE_P10</th>\n",
       "      <th>MD_EARN_WNE_P6</th>\n",
       "    </tr>\n",
       "  </thead>\n",
       "  <tbody>\n",
       "    <tr>\n",
       "      <th>0</th>\n",
       "      <td>Alabama A &amp; M University</td>\n",
       "      <td>AL</td>\n",
       "      <td>0.8738</td>\n",
       "      <td>22667.0</td>\n",
       "      <td>7028.0</td>\n",
       "      <td>0.7667</td>\n",
       "      <td>Public</td>\n",
       "      <td>4.84</td>\n",
       "      <td>31000.0</td>\n",
       "      <td>25200.0</td>\n",
       "    </tr>\n",
       "    <tr>\n",
       "      <th>1</th>\n",
       "      <td>University of Alabama at Birmingham</td>\n",
       "      <td>AL</td>\n",
       "      <td>0.5814</td>\n",
       "      <td>22684.0</td>\n",
       "      <td>10517.0</td>\n",
       "      <td>0.5179</td>\n",
       "      <td>Public</td>\n",
       "      <td>3.45</td>\n",
       "      <td>41200.0</td>\n",
       "      <td>35100.0</td>\n",
       "    </tr>\n",
       "    <tr>\n",
       "      <th>3</th>\n",
       "      <td>University of Alabama in Huntsville</td>\n",
       "      <td>AL</td>\n",
       "      <td>0.7628</td>\n",
       "      <td>22059.0</td>\n",
       "      <td>9463.0</td>\n",
       "      <td>0.4312</td>\n",
       "      <td>Public</td>\n",
       "      <td>3.64</td>\n",
       "      <td>46700.0</td>\n",
       "      <td>36200.0</td>\n",
       "    </tr>\n",
       "    <tr>\n",
       "      <th>4</th>\n",
       "      <td>Alabama State University</td>\n",
       "      <td>AL</td>\n",
       "      <td>0.4590</td>\n",
       "      <td>19242.0</td>\n",
       "      <td>7952.0</td>\n",
       "      <td>0.8113</td>\n",
       "      <td>Public</td>\n",
       "      <td>4.81</td>\n",
       "      <td>27700.0</td>\n",
       "      <td>22600.0</td>\n",
       "    </tr>\n",
       "    <tr>\n",
       "      <th>5</th>\n",
       "      <td>The University of Alabama</td>\n",
       "      <td>AL</td>\n",
       "      <td>0.5259</td>\n",
       "      <td>28422.0</td>\n",
       "      <td>9802.0</td>\n",
       "      <td>0.4007</td>\n",
       "      <td>Public</td>\n",
       "      <td>3.26</td>\n",
       "      <td>44500.0</td>\n",
       "      <td>37400.0</td>\n",
       "    </tr>\n",
       "  </tbody>\n",
       "</table>\n",
       "</div>"
      ],
      "text/plain": [
       "                      Institution_Name STATE  ADM_RATE  COSTT4_A  AVGFACSAL  \\\n",
       "0             Alabama A & M University    AL    0.8738   22667.0     7028.0   \n",
       "1  University of Alabama at Birmingham    AL    0.5814   22684.0    10517.0   \n",
       "3  University of Alabama in Huntsville    AL    0.7628   22059.0     9463.0   \n",
       "4             Alabama State University    AL    0.4590   19242.0     7952.0   \n",
       "5            The University of Alabama    AL    0.5259   28422.0     9802.0   \n",
       "\n",
       "   PCTFLOAN CONTROL_MERGED  UNEMP_RATE  MD_EARN_WNE_P10  MD_EARN_WNE_P6  \n",
       "0    0.7667         Public        4.84          31000.0         25200.0  \n",
       "1    0.5179         Public        3.45          41200.0         35100.0  \n",
       "3    0.4312         Public        3.64          46700.0         36200.0  \n",
       "4    0.8113         Public        4.81          27700.0         22600.0  \n",
       "5    0.4007         Public        3.26          44500.0         37400.0  "
      ]
     },
     "execution_count": 46,
     "metadata": {},
     "output_type": "execute_result"
    }
   ],
   "source": [
    "# some of the value types of earning data are not in numeric form for modeling\n",
    "# changing data types to numeric for modeling\n",
    "# we also want to model private and public schools separately when possible, so changing the type to categorical\n",
    "earning_analysis[\"UNEMP_RATE\"] = pd.to_numeric(earning_analysis.UNEMP_RATE, errors='coerce')\n",
    "earning_analysis[\"MD_EARN_WNE_P10\"] = pd.to_numeric(earning_analysis.MD_EARN_WNE_P10, errors='coerce')\n",
    "earning_analysis[\"MD_EARN_WNE_P6\"] = pd.to_numeric(earning_analysis.MD_EARN_WNE_P6, errors='coerce')\n",
    "earning_analysis['CONTROL_MERGED'] = earning_analysis['CONTROL_MERGED'].astype('category')\n",
    "earning_analysis = earning_analysis.dropna()\n",
    "earning_analysis.shape\n",
    "earning_analysis.head()"
   ]
  },
  {
   "cell_type": "markdown",
   "metadata": {},
   "source": [
    "In order to get a meaningful coefficient on all explainatory variables, we will normalize all the numeric columns before model fitting. After normalization, all the earnings value will be on a 0 to 1 scale."
   ]
  },
  {
   "cell_type": "code",
   "execution_count": 47,
   "metadata": {},
   "outputs": [
    {
     "data": {
      "text/plain": [
       "Institution_Name      object\n",
       "STATE                 object\n",
       "ADM_RATE             float64\n",
       "COSTT4_A             float64\n",
       "AVGFACSAL            float64\n",
       "PCTFLOAN             float64\n",
       "CONTROL_MERGED      category\n",
       "UNEMP_RATE           float64\n",
       "MD_EARN_WNE_P10      float64\n",
       "MD_EARN_WNE_P6       float64\n",
       "dtype: object"
      ]
     },
     "execution_count": 47,
     "metadata": {},
     "output_type": "execute_result"
    }
   ],
   "source": [
    "# get an overview of all column data types\n",
    "earning_analysis.dtypes"
   ]
  },
  {
   "cell_type": "code",
   "execution_count": 48,
   "metadata": {
    "collapsed": true
   },
   "outputs": [],
   "source": [
    "# importing a statsmodels package for regression modeling\n",
    "from sklearn.preprocessing import MinMaxScaler\n",
    "import statsmodels.formula.api as sm"
   ]
  },
  {
   "cell_type": "code",
   "execution_count": 49,
   "metadata": {
    "collapsed": true
   },
   "outputs": [],
   "source": [
    "# apply scalers on all numeric values, so that all the numeric variables will be evaluated on a scale of 0 to 1\n",
    "earning_analysis_norm = earning_analysis.copy(deep=True)\n",
    "Scaler = MinMaxScaler()\n",
    "earning_analysis_norm[['ADM_RATE', 'COSTT4_A','AVGFACSAL','PCTFLOAN','UNEMP_RATE','MD_EARN_WNE_P10','MD_EARN_WNE_P6']] = Scaler.fit_transform(earning_analysis_norm[['ADM_RATE', 'COSTT4_A','AVGFACSAL','PCTFLOAN','UNEMP_RATE','MD_EARN_WNE_P10','MD_EARN_WNE_P6']])"
   ]
  },
  {
   "cell_type": "code",
   "execution_count": 50,
   "metadata": {},
   "outputs": [
    {
     "data": {
      "text/html": [
       "<div>\n",
       "<style scoped>\n",
       "    .dataframe tbody tr th:only-of-type {\n",
       "        vertical-align: middle;\n",
       "    }\n",
       "\n",
       "    .dataframe tbody tr th {\n",
       "        vertical-align: top;\n",
       "    }\n",
       "\n",
       "    .dataframe thead th {\n",
       "        text-align: right;\n",
       "    }\n",
       "</style>\n",
       "<table border=\"1\" class=\"dataframe\">\n",
       "  <thead>\n",
       "    <tr style=\"text-align: right;\">\n",
       "      <th></th>\n",
       "      <th>Institution_Name</th>\n",
       "      <th>STATE</th>\n",
       "      <th>ADM_RATE</th>\n",
       "      <th>COSTT4_A</th>\n",
       "      <th>AVGFACSAL</th>\n",
       "      <th>PCTFLOAN</th>\n",
       "      <th>CONTROL_MERGED</th>\n",
       "      <th>UNEMP_RATE</th>\n",
       "      <th>MD_EARN_WNE_P10</th>\n",
       "      <th>MD_EARN_WNE_P6</th>\n",
       "    </tr>\n",
       "  </thead>\n",
       "  <tbody>\n",
       "    <tr>\n",
       "      <th>0</th>\n",
       "      <td>Alabama A &amp; M University</td>\n",
       "      <td>AL</td>\n",
       "      <td>0.867423</td>\n",
       "      <td>0.196541</td>\n",
       "      <td>0.246999</td>\n",
       "      <td>0.787086</td>\n",
       "      <td>Public</td>\n",
       "      <td>0.489209</td>\n",
       "      <td>0.150499</td>\n",
       "      <td>0.124874</td>\n",
       "    </tr>\n",
       "    <tr>\n",
       "      <th>1</th>\n",
       "      <td>University of Alabama at Birmingham</td>\n",
       "      <td>AL</td>\n",
       "      <td>0.560248</td>\n",
       "      <td>0.196829</td>\n",
       "      <td>0.420780</td>\n",
       "      <td>0.531670</td>\n",
       "      <td>Public</td>\n",
       "      <td>0.239209</td>\n",
       "      <td>0.242974</td>\n",
       "      <td>0.224572</td>\n",
       "    </tr>\n",
       "    <tr>\n",
       "      <th>3</th>\n",
       "      <td>University of Alabama in Huntsville</td>\n",
       "      <td>AL</td>\n",
       "      <td>0.750814</td>\n",
       "      <td>0.186242</td>\n",
       "      <td>0.368282</td>\n",
       "      <td>0.442665</td>\n",
       "      <td>Public</td>\n",
       "      <td>0.273381</td>\n",
       "      <td>0.292838</td>\n",
       "      <td>0.235650</td>\n",
       "    </tr>\n",
       "    <tr>\n",
       "      <th>4</th>\n",
       "      <td>Alabama State University</td>\n",
       "      <td>AL</td>\n",
       "      <td>0.431663</td>\n",
       "      <td>0.138526</td>\n",
       "      <td>0.293022</td>\n",
       "      <td>0.832871</td>\n",
       "      <td>Public</td>\n",
       "      <td>0.483813</td>\n",
       "      <td>0.120580</td>\n",
       "      <td>0.098691</td>\n",
       "    </tr>\n",
       "    <tr>\n",
       "      <th>5</th>\n",
       "      <td>The University of Alabama</td>\n",
       "      <td>AL</td>\n",
       "      <td>0.501943</td>\n",
       "      <td>0.294024</td>\n",
       "      <td>0.385167</td>\n",
       "      <td>0.411354</td>\n",
       "      <td>Public</td>\n",
       "      <td>0.205036</td>\n",
       "      <td>0.272892</td>\n",
       "      <td>0.247734</td>\n",
       "    </tr>\n",
       "  </tbody>\n",
       "</table>\n",
       "</div>"
      ],
      "text/plain": [
       "                      Institution_Name STATE  ADM_RATE  COSTT4_A  AVGFACSAL  \\\n",
       "0             Alabama A & M University    AL  0.867423  0.196541   0.246999   \n",
       "1  University of Alabama at Birmingham    AL  0.560248  0.196829   0.420780   \n",
       "3  University of Alabama in Huntsville    AL  0.750814  0.186242   0.368282   \n",
       "4             Alabama State University    AL  0.431663  0.138526   0.293022   \n",
       "5            The University of Alabama    AL  0.501943  0.294024   0.385167   \n",
       "\n",
       "   PCTFLOAN CONTROL_MERGED  UNEMP_RATE  MD_EARN_WNE_P10  MD_EARN_WNE_P6  \n",
       "0  0.787086         Public    0.489209         0.150499        0.124874  \n",
       "1  0.531670         Public    0.239209         0.242974        0.224572  \n",
       "3  0.442665         Public    0.273381         0.292838        0.235650  \n",
       "4  0.832871         Public    0.483813         0.120580        0.098691  \n",
       "5  0.411354         Public    0.205036         0.272892        0.247734  "
      ]
     },
     "execution_count": 50,
     "metadata": {},
     "output_type": "execute_result"
    }
   ],
   "source": [
    "earning_analysis_norm.head()"
   ]
  },
  {
   "cell_type": "markdown",
   "metadata": {},
   "source": [
    "### Model fit"
   ]
  },
  {
   "cell_type": "markdown",
   "metadata": {},
   "source": [
    "**Three Regression Models:** From the normalized data, I was able to explore the relationships between earnings 10 years after entry, earnings 6 years after entry and unemployment rate against three potential indicators: cost of attendance, admission rate and percentage of federal loan. The below three regression models tell a consistent yet interesting story. \n",
    "\n",
    "* Cost of attendance is a statistically significant positive indicator of post-school earnings, that is to say, the higher the average cost of attendance, the higher median post school earnings. The effect of cost is slightly larger for 10 years after entry than 6 years, while we also see a larger spread of earnings distribution in 10 years than 6 years. Averaging cost of attendance is also a statistically significant negative indicator of unemployment rate, meaning the higher the average cost of attendance, the lower of the unemployment rate for the school. Both of these results align with the original hypothesis. \n",
    "    \n",
    "* Admission rate, however, is not consistently a statistically significant indicator for post-school earnings. It has a p-value of 0.002 for 10 years after entry, although having a slightly negative effect, and has a p-value of 0.169 for 6 years after entry, which does not have statistically significant predicative power. Therefore, we can not conclude the effect of admission rate on earnings with this model set up. Admission rate does have a statistically significant negative predicative power for unemployment rate. \n",
    "    \n",
    "* Percent of Federal Loans does not have a result that align with the original hypothesis. Both models with post-school earnings show that percent of federal loans is a negative predicative variable for earnings. Further investigations are needed to detect why providing federal loans to students has a negative effect on future earning outcomes. We should also check schools that have higher percent of federal loans and see if there are other common characteristics associated with getting more loans."
   ]
  },
  {
   "cell_type": "code",
   "execution_count": 51,
   "metadata": {},
   "outputs": [
    {
     "data": {
      "text/plain": [
       "Intercept    0.332428\n",
       "COSTT4_A     0.170243\n",
       "ADM_RATE    -0.037554\n",
       "PCTFLOAN    -0.179575\n",
       "dtype: float64"
      ]
     },
     "execution_count": 51,
     "metadata": {},
     "output_type": "execute_result"
    },
    {
     "data": {
      "text/html": [
       "<table class=\"simpletable\">\n",
       "<caption>OLS Regression Results</caption>\n",
       "<tr>\n",
       "  <th>Dep. Variable:</th>     <td>MD_EARN_WNE_P10</td> <th>  R-squared:         </th> <td>   0.295</td> \n",
       "</tr>\n",
       "<tr>\n",
       "  <th>Model:</th>                   <td>OLS</td>       <th>  Adj. R-squared:    </th> <td>   0.293</td> \n",
       "</tr>\n",
       "<tr>\n",
       "  <th>Method:</th>             <td>Least Squares</td>  <th>  F-statistic:       </th> <td>   206.7</td> \n",
       "</tr>\n",
       "<tr>\n",
       "  <th>Date:</th>             <td>Sun, 09 Dec 2018</td> <th>  Prob (F-statistic):</th> <td>5.26e-112</td>\n",
       "</tr>\n",
       "<tr>\n",
       "  <th>Time:</th>                 <td>20:23:43</td>     <th>  Log-Likelihood:    </th> <td>  1527.9</td> \n",
       "</tr>\n",
       "<tr>\n",
       "  <th>No. Observations:</th>      <td>  1488</td>      <th>  AIC:               </th> <td>  -3048.</td> \n",
       "</tr>\n",
       "<tr>\n",
       "  <th>Df Residuals:</th>          <td>  1484</td>      <th>  BIC:               </th> <td>  -3026.</td> \n",
       "</tr>\n",
       "<tr>\n",
       "  <th>Df Model:</th>              <td>     3</td>      <th>                     </th>     <td> </td>    \n",
       "</tr>\n",
       "<tr>\n",
       "  <th>Covariance Type:</th>      <td>nonrobust</td>    <th>                     </th>     <td> </td>    \n",
       "</tr>\n",
       "</table>\n",
       "<table class=\"simpletable\">\n",
       "<tr>\n",
       "      <td></td>         <th>coef</th>     <th>std err</th>      <th>t</th>      <th>P>|t|</th>  <th>[0.025</th>    <th>0.975]</th>  \n",
       "</tr>\n",
       "<tr>\n",
       "  <th>Intercept</th> <td>    0.3324</td> <td>    0.011</td> <td>   30.001</td> <td> 0.000</td> <td>    0.311</td> <td>    0.354</td>\n",
       "</tr>\n",
       "<tr>\n",
       "  <th>COSTT4_A</th>  <td>    0.1702</td> <td>    0.010</td> <td>   17.847</td> <td> 0.000</td> <td>    0.152</td> <td>    0.189</td>\n",
       "</tr>\n",
       "<tr>\n",
       "  <th>ADM_RATE</th>  <td>   -0.0376</td> <td>    0.012</td> <td>   -3.150</td> <td> 0.002</td> <td>   -0.061</td> <td>   -0.014</td>\n",
       "</tr>\n",
       "<tr>\n",
       "  <th>PCTFLOAN</th>  <td>   -0.1796</td> <td>    0.013</td> <td>  -13.557</td> <td> 0.000</td> <td>   -0.206</td> <td>   -0.154</td>\n",
       "</tr>\n",
       "</table>\n",
       "<table class=\"simpletable\">\n",
       "<tr>\n",
       "  <th>Omnibus:</th>       <td>516.309</td> <th>  Durbin-Watson:     </th> <td>   1.775</td>\n",
       "</tr>\n",
       "<tr>\n",
       "  <th>Prob(Omnibus):</th> <td> 0.000</td>  <th>  Jarque-Bera (JB):  </th> <td>4859.031</td>\n",
       "</tr>\n",
       "<tr>\n",
       "  <th>Skew:</th>          <td> 1.341</td>  <th>  Prob(JB):          </th> <td>    0.00</td>\n",
       "</tr>\n",
       "<tr>\n",
       "  <th>Kurtosis:</th>      <td>11.437</td>  <th>  Cond. No.          </th> <td>    9.75</td>\n",
       "</tr>\n",
       "</table>"
      ],
      "text/plain": [
       "<class 'statsmodels.iolib.summary.Summary'>\n",
       "\"\"\"\n",
       "                            OLS Regression Results                            \n",
       "==============================================================================\n",
       "Dep. Variable:        MD_EARN_WNE_P10   R-squared:                       0.295\n",
       "Model:                            OLS   Adj. R-squared:                  0.293\n",
       "Method:                 Least Squares   F-statistic:                     206.7\n",
       "Date:                Sun, 09 Dec 2018   Prob (F-statistic):          5.26e-112\n",
       "Time:                        20:23:43   Log-Likelihood:                 1527.9\n",
       "No. Observations:                1488   AIC:                            -3048.\n",
       "Df Residuals:                    1484   BIC:                            -3026.\n",
       "Df Model:                           3                                         \n",
       "Covariance Type:            nonrobust                                         \n",
       "==============================================================================\n",
       "                 coef    std err          t      P>|t|      [0.025      0.975]\n",
       "------------------------------------------------------------------------------\n",
       "Intercept      0.3324      0.011     30.001      0.000       0.311       0.354\n",
       "COSTT4_A       0.1702      0.010     17.847      0.000       0.152       0.189\n",
       "ADM_RATE      -0.0376      0.012     -3.150      0.002      -0.061      -0.014\n",
       "PCTFLOAN      -0.1796      0.013    -13.557      0.000      -0.206      -0.154\n",
       "==============================================================================\n",
       "Omnibus:                      516.309   Durbin-Watson:                   1.775\n",
       "Prob(Omnibus):                  0.000   Jarque-Bera (JB):             4859.031\n",
       "Skew:                           1.341   Prob(JB):                         0.00\n",
       "Kurtosis:                      11.437   Cond. No.                         9.75\n",
       "==============================================================================\n",
       "\n",
       "Warnings:\n",
       "[1] Standard Errors assume that the covariance matrix of the errors is correctly specified.\n",
       "\"\"\""
      ]
     },
     "execution_count": 51,
     "metadata": {},
     "output_type": "execute_result"
    }
   ],
   "source": [
    "# fit ordinary least squares regression on cost of attendance, \n",
    "# admission rate and percent of federal loan against eanings\n",
    "result_10year = sm.ols(formula=\"MD_EARN_WNE_P10 ~ COSTT4_A + ADM_RATE + PCTFLOAN\", \n",
    "                       data=earning_analysis_norm).fit()\n",
    "result_10year.params\n",
    "result_10year.summary()"
   ]
  },
  {
   "cell_type": "code",
   "execution_count": 52,
   "metadata": {},
   "outputs": [
    {
     "data": {
      "text/plain": [
       "Intercept    0.265175\n",
       "COSTT4_A     0.128978\n",
       "ADM_RATE    -0.015166\n",
       "PCTFLOAN    -0.131230\n",
       "dtype: float64"
      ]
     },
     "execution_count": 52,
     "metadata": {},
     "output_type": "execute_result"
    },
    {
     "data": {
      "text/html": [
       "<table class=\"simpletable\">\n",
       "<caption>OLS Regression Results</caption>\n",
       "<tr>\n",
       "  <th>Dep. Variable:</th>     <td>MD_EARN_WNE_P6</td>  <th>  R-squared:         </th> <td>   0.205</td>\n",
       "</tr>\n",
       "<tr>\n",
       "  <th>Model:</th>                   <td>OLS</td>       <th>  Adj. R-squared:    </th> <td>   0.203</td>\n",
       "</tr>\n",
       "<tr>\n",
       "  <th>Method:</th>             <td>Least Squares</td>  <th>  F-statistic:       </th> <td>   127.2</td>\n",
       "</tr>\n",
       "<tr>\n",
       "  <th>Date:</th>             <td>Sun, 09 Dec 2018</td> <th>  Prob (F-statistic):</th> <td>2.60e-73</td>\n",
       "</tr>\n",
       "<tr>\n",
       "  <th>Time:</th>                 <td>20:23:43</td>     <th>  Log-Likelihood:    </th> <td>  1643.4</td>\n",
       "</tr>\n",
       "<tr>\n",
       "  <th>No. Observations:</th>      <td>  1488</td>      <th>  AIC:               </th> <td>  -3279.</td>\n",
       "</tr>\n",
       "<tr>\n",
       "  <th>Df Residuals:</th>          <td>  1484</td>      <th>  BIC:               </th> <td>  -3258.</td>\n",
       "</tr>\n",
       "<tr>\n",
       "  <th>Df Model:</th>              <td>     3</td>      <th>                     </th>     <td> </td>   \n",
       "</tr>\n",
       "<tr>\n",
       "  <th>Covariance Type:</th>      <td>nonrobust</td>    <th>                     </th>     <td> </td>   \n",
       "</tr>\n",
       "</table>\n",
       "<table class=\"simpletable\">\n",
       "<tr>\n",
       "      <td></td>         <th>coef</th>     <th>std err</th>      <th>t</th>      <th>P>|t|</th>  <th>[0.025</th>    <th>0.975]</th>  \n",
       "</tr>\n",
       "<tr>\n",
       "  <th>Intercept</th> <td>    0.2652</td> <td>    0.010</td> <td>   25.865</td> <td> 0.000</td> <td>    0.245</td> <td>    0.285</td>\n",
       "</tr>\n",
       "<tr>\n",
       "  <th>COSTT4_A</th>  <td>    0.1290</td> <td>    0.009</td> <td>   14.613</td> <td> 0.000</td> <td>    0.112</td> <td>    0.146</td>\n",
       "</tr>\n",
       "<tr>\n",
       "  <th>ADM_RATE</th>  <td>   -0.0152</td> <td>    0.011</td> <td>   -1.375</td> <td> 0.169</td> <td>   -0.037</td> <td>    0.006</td>\n",
       "</tr>\n",
       "<tr>\n",
       "  <th>PCTFLOAN</th>  <td>   -0.1312</td> <td>    0.012</td> <td>  -10.708</td> <td> 0.000</td> <td>   -0.155</td> <td>   -0.107</td>\n",
       "</tr>\n",
       "</table>\n",
       "<table class=\"simpletable\">\n",
       "<tr>\n",
       "  <th>Omnibus:</th>       <td>562.805</td> <th>  Durbin-Watson:     </th> <td>   1.876</td>\n",
       "</tr>\n",
       "<tr>\n",
       "  <th>Prob(Omnibus):</th> <td> 0.000</td>  <th>  Jarque-Bera (JB):  </th> <td>5934.322</td>\n",
       "</tr>\n",
       "<tr>\n",
       "  <th>Skew:</th>          <td> 1.456</td>  <th>  Prob(JB):          </th> <td>    0.00</td>\n",
       "</tr>\n",
       "<tr>\n",
       "  <th>Kurtosis:</th>      <td>12.340</td>  <th>  Cond. No.          </th> <td>    9.75</td>\n",
       "</tr>\n",
       "</table>"
      ],
      "text/plain": [
       "<class 'statsmodels.iolib.summary.Summary'>\n",
       "\"\"\"\n",
       "                            OLS Regression Results                            \n",
       "==============================================================================\n",
       "Dep. Variable:         MD_EARN_WNE_P6   R-squared:                       0.205\n",
       "Model:                            OLS   Adj. R-squared:                  0.203\n",
       "Method:                 Least Squares   F-statistic:                     127.2\n",
       "Date:                Sun, 09 Dec 2018   Prob (F-statistic):           2.60e-73\n",
       "Time:                        20:23:43   Log-Likelihood:                 1643.4\n",
       "No. Observations:                1488   AIC:                            -3279.\n",
       "Df Residuals:                    1484   BIC:                            -3258.\n",
       "Df Model:                           3                                         \n",
       "Covariance Type:            nonrobust                                         \n",
       "==============================================================================\n",
       "                 coef    std err          t      P>|t|      [0.025      0.975]\n",
       "------------------------------------------------------------------------------\n",
       "Intercept      0.2652      0.010     25.865      0.000       0.245       0.285\n",
       "COSTT4_A       0.1290      0.009     14.613      0.000       0.112       0.146\n",
       "ADM_RATE      -0.0152      0.011     -1.375      0.169      -0.037       0.006\n",
       "PCTFLOAN      -0.1312      0.012    -10.708      0.000      -0.155      -0.107\n",
       "==============================================================================\n",
       "Omnibus:                      562.805   Durbin-Watson:                   1.876\n",
       "Prob(Omnibus):                  0.000   Jarque-Bera (JB):             5934.322\n",
       "Skew:                           1.456   Prob(JB):                         0.00\n",
       "Kurtosis:                      12.340   Cond. No.                         9.75\n",
       "==============================================================================\n",
       "\n",
       "Warnings:\n",
       "[1] Standard Errors assume that the covariance matrix of the errors is correctly specified.\n",
       "\"\"\""
      ]
     },
     "execution_count": 52,
     "metadata": {},
     "output_type": "execute_result"
    }
   ],
   "source": [
    "# fit ordinary least squares regression on cost of attendance, \n",
    "# admission rate and percent of federal loan against eanings\n",
    "result_6year = sm.ols(formula=\"MD_EARN_WNE_P6 ~ COSTT4_A + ADM_RATE + PCTFLOAN\", \n",
    "                       data=earning_analysis_norm).fit()\n",
    "result_6year.params\n",
    "result_6year.summary()"
   ]
  },
  {
   "cell_type": "code",
   "execution_count": 53,
   "metadata": {},
   "outputs": [
    {
     "data": {
      "text/plain": [
       "Intercept    0.362776\n",
       "COSTT4_A    -0.183817\n",
       "ADM_RATE    -0.105645\n",
       "PCTFLOAN     0.024153\n",
       "dtype: float64"
      ]
     },
     "execution_count": 53,
     "metadata": {},
     "output_type": "execute_result"
    },
    {
     "data": {
      "text/html": [
       "<table class=\"simpletable\">\n",
       "<caption>OLS Regression Results</caption>\n",
       "<tr>\n",
       "  <th>Dep. Variable:</th>       <td>UNEMP_RATE</td>    <th>  R-squared:         </th> <td>   0.109</td>\n",
       "</tr>\n",
       "<tr>\n",
       "  <th>Model:</th>                   <td>OLS</td>       <th>  Adj. R-squared:    </th> <td>   0.108</td>\n",
       "</tr>\n",
       "<tr>\n",
       "  <th>Method:</th>             <td>Least Squares</td>  <th>  F-statistic:       </th> <td>   60.79</td>\n",
       "</tr>\n",
       "<tr>\n",
       "  <th>Date:</th>             <td>Sun, 09 Dec 2018</td> <th>  Prob (F-statistic):</th> <td>4.59e-37</td>\n",
       "</tr>\n",
       "<tr>\n",
       "  <th>Time:</th>                 <td>20:23:43</td>     <th>  Log-Likelihood:    </th> <td>  977.17</td>\n",
       "</tr>\n",
       "<tr>\n",
       "  <th>No. Observations:</th>      <td>  1488</td>      <th>  AIC:               </th> <td>  -1946.</td>\n",
       "</tr>\n",
       "<tr>\n",
       "  <th>Df Residuals:</th>          <td>  1484</td>      <th>  BIC:               </th> <td>  -1925.</td>\n",
       "</tr>\n",
       "<tr>\n",
       "  <th>Df Model:</th>              <td>     3</td>      <th>                     </th>     <td> </td>   \n",
       "</tr>\n",
       "<tr>\n",
       "  <th>Covariance Type:</th>      <td>nonrobust</td>    <th>                     </th>     <td> </td>   \n",
       "</tr>\n",
       "</table>\n",
       "<table class=\"simpletable\">\n",
       "<tr>\n",
       "      <td></td>         <th>coef</th>     <th>std err</th>      <th>t</th>      <th>P>|t|</th>  <th>[0.025</th>    <th>0.975]</th>  \n",
       "</tr>\n",
       "<tr>\n",
       "  <th>Intercept</th> <td>    0.3628</td> <td>    0.016</td> <td>   22.613</td> <td> 0.000</td> <td>    0.331</td> <td>    0.394</td>\n",
       "</tr>\n",
       "<tr>\n",
       "  <th>COSTT4_A</th>  <td>   -0.1838</td> <td>    0.014</td> <td>  -13.309</td> <td> 0.000</td> <td>   -0.211</td> <td>   -0.157</td>\n",
       "</tr>\n",
       "<tr>\n",
       "  <th>ADM_RATE</th>  <td>   -0.1056</td> <td>    0.017</td> <td>   -6.121</td> <td> 0.000</td> <td>   -0.140</td> <td>   -0.072</td>\n",
       "</tr>\n",
       "<tr>\n",
       "  <th>PCTFLOAN</th>  <td>    0.0242</td> <td>    0.019</td> <td>    1.259</td> <td> 0.208</td> <td>   -0.013</td> <td>    0.062</td>\n",
       "</tr>\n",
       "</table>\n",
       "<table class=\"simpletable\">\n",
       "<tr>\n",
       "  <th>Omnibus:</th>       <td>521.567</td> <th>  Durbin-Watson:     </th> <td>   1.253</td>\n",
       "</tr>\n",
       "<tr>\n",
       "  <th>Prob(Omnibus):</th> <td> 0.000</td>  <th>  Jarque-Bera (JB):  </th> <td>2186.970</td>\n",
       "</tr>\n",
       "<tr>\n",
       "  <th>Skew:</th>          <td> 1.641</td>  <th>  Prob(JB):          </th> <td>    0.00</td>\n",
       "</tr>\n",
       "<tr>\n",
       "  <th>Kurtosis:</th>      <td> 7.951</td>  <th>  Cond. No.          </th> <td>    9.75</td>\n",
       "</tr>\n",
       "</table>"
      ],
      "text/plain": [
       "<class 'statsmodels.iolib.summary.Summary'>\n",
       "\"\"\"\n",
       "                            OLS Regression Results                            \n",
       "==============================================================================\n",
       "Dep. Variable:             UNEMP_RATE   R-squared:                       0.109\n",
       "Model:                            OLS   Adj. R-squared:                  0.108\n",
       "Method:                 Least Squares   F-statistic:                     60.79\n",
       "Date:                Sun, 09 Dec 2018   Prob (F-statistic):           4.59e-37\n",
       "Time:                        20:23:43   Log-Likelihood:                 977.17\n",
       "No. Observations:                1488   AIC:                            -1946.\n",
       "Df Residuals:                    1484   BIC:                            -1925.\n",
       "Df Model:                           3                                         \n",
       "Covariance Type:            nonrobust                                         \n",
       "==============================================================================\n",
       "                 coef    std err          t      P>|t|      [0.025      0.975]\n",
       "------------------------------------------------------------------------------\n",
       "Intercept      0.3628      0.016     22.613      0.000       0.331       0.394\n",
       "COSTT4_A      -0.1838      0.014    -13.309      0.000      -0.211      -0.157\n",
       "ADM_RATE      -0.1056      0.017     -6.121      0.000      -0.140      -0.072\n",
       "PCTFLOAN       0.0242      0.019      1.259      0.208      -0.013       0.062\n",
       "==============================================================================\n",
       "Omnibus:                      521.567   Durbin-Watson:                   1.253\n",
       "Prob(Omnibus):                  0.000   Jarque-Bera (JB):             2186.970\n",
       "Skew:                           1.641   Prob(JB):                         0.00\n",
       "Kurtosis:                       7.951   Cond. No.                         9.75\n",
       "==============================================================================\n",
       "\n",
       "Warnings:\n",
       "[1] Standard Errors assume that the covariance matrix of the errors is correctly specified.\n",
       "\"\"\""
      ]
     },
     "execution_count": 53,
     "metadata": {},
     "output_type": "execute_result"
    }
   ],
   "source": [
    "# fit ordinary least squares regression on cost of attendance, \n",
    "# admission rate and percent of federal loan against eanings\n",
    "result_unemployment = sm.ols(formula=\"UNEMP_RATE ~ COSTT4_A + ADM_RATE + PCTFLOAN\", \n",
    "                             data=earning_analysis_norm).fit()\n",
    "result_unemployment.params\n",
    "result_unemployment.summary()"
   ]
  },
  {
   "cell_type": "markdown",
   "metadata": {},
   "source": [
    "### Visualizing the trend"
   ]
  },
  {
   "cell_type": "markdown",
   "metadata": {},
   "source": [
    "The below graph visualizes the correlation between cost of attendance and median earning after 10 years of entry, and we can see the regression line conveys the same message as the regression summary: the higher the average cost of attendance the higher the median earnings 10 years after entry."
   ]
  },
  {
   "cell_type": "code",
   "execution_count": 54,
   "metadata": {},
   "outputs": [
    {
     "data": {
      "image/png": "[encoded data removed]",
      "text/plain": [
       "<matplotlib.figure.Figure at 0x1a18dfc630>"
      ]
     },
     "metadata": {},
     "output_type": "display_data"
    }
   ],
   "source": [
    "# Plot the correlation between earnings and average cost of attendance\n",
    "sns.regplot(x='COSTT4_A',\n",
    "            y='MD_EARN_WNE_P10', \n",
    "            data=earning_analysis).set_title('Cost of Attendance vs. Post-school Earnings');"
   ]
  },
  {
   "cell_type": "markdown",
   "metadata": {},
   "source": [
    "The regression scatterplot below visualizes the negative correlation between admission rate and post-school earnings. This plot explains more of the potential reasons for a negative correlation than the regression summary. We can see that there are clusters of high admission rate schools around 0.6 to 0.8 mark, these schools do not provide a clear correlation for the post-school earnings. At the same time, potentially school that have less strict criteria for admitting students may not be able to filter out unqualified candidates, thus resulting in the lower post-school earning."
   ]
  },
  {
   "cell_type": "code",
   "execution_count": 55,
   "metadata": {},
   "outputs": [
    {
     "data": {
      "image/png": "[encoded data removed]",
      "text/plain": [
       "<matplotlib.figure.Figure at 0x1a18405278>"
      ]
     },
     "metadata": {},
     "output_type": "display_data"
    }
   ],
   "source": [
    "# Plot the correlation between earnings and admission rate\n",
    "sns.regplot(x='ADM_RATE',\n",
    "            y='MD_EARN_WNE_P10', \n",
    "            data=earning_analysis).set_title('Admission Rate vs. Post-school Earnings');"
   ]
  },
  {
   "cell_type": "markdown",
   "metadata": {},
   "source": [
    "From the below visualization, we can see that there are several outlier schools on the lower lefthand side of the plot, further investigation can start from potential outliers."
   ]
  },
  {
   "cell_type": "code",
   "execution_count": 56,
   "metadata": {},
   "outputs": [
    {
     "data": {
      "image/png": "[encoded data removed]",
      "text/plain": [
       "<matplotlib.figure.Figure at 0x1a186f2828>"
      ]
     },
     "metadata": {},
     "output_type": "display_data"
    }
   ],
   "source": [
    "# Plot the correlation between earnings and pcnt federal loan\n",
    "sns.regplot(x='PCTFLOAN',\n",
    "            y='MD_EARN_WNE_P10', \n",
    "            data=earning_analysis).set_title('Pcnt Federal Loan vs. Post-school Earnings');"
   ]
  },
  {
   "cell_type": "markdown",
   "metadata": {},
   "source": [
    "Below graph tells a slightly different picture. While still fitting average cost of attendance variable agasint post-school earnings, this graph also compared private and public schools separately. From the graph, we can see the regression lines difference between private and public schools, although the scatterplot shows while average cost of attendance is below 50,000 per year, there is no significant difference in post-school earnings between the two type of school controls."
   ]
  },
  {
   "cell_type": "code",
   "execution_count": 57,
   "metadata": {},
   "outputs": [
    {
     "data": {
      "image/png": "[encoded data removed]",
      "text/plain": [
       "<matplotlib.figure.Figure at 0x1a1871c358>"
      ]
     },
     "metadata": {},
     "output_type": "display_data"
    }
   ],
   "source": [
    "sns.lmplot(x=\"COSTT4_A\", y=\"MD_EARN_WNE_P10\", \n",
    "           data=earning_analysis, \n",
    "           fit_reg=True, \n",
    "           hue='CONTROL_MERGED', \n",
    "           legend=True).set_titles('Cost of Attendance vs. Post-school Earnings By types of school');"
   ]
  },
  {
   "cell_type": "markdown",
   "metadata": {
    "collapsed": true
   },
   "source": [
    "## Limitations and Implications"
   ]
  },
  {
   "cell_type": "markdown",
   "metadata": {
    "collapsed": true
   },
   "source": [
    "This analysis is currently designed for a very specific user persona, an international student who does not have preference of states or regions and does not have access to federal loans. Therefore, there are a lot we can expand on as we expand to a broader audience."
   ]
  },
  {
   "cell_type": "markdown",
   "metadata": {},
   "source": [
    "### Normalization Considerations"
   ]
  },
  {
   "cell_type": "markdown",
   "metadata": {},
   "source": [
    "Because of the consideration of end users, this analysis does not take characteristics of each state and region into account. Specifically, we can gather more data on state level population and median household income to normalize against the availability and accessbility of the schools. For example, Wyoming has the least number of schools and cheapest cost of attendance, we would get a more complete picture if we can analyze whether Wyoming also has the least number of school age population and the lowest median household income. These factors will help explain some of the trends we see on the state level."
   ]
  },
  {
   "cell_type": "markdown",
   "metadata": {},
   "source": [
    "### Modeling Considerations"
   ]
  },
  {
   "cell_type": "markdown",
   "metadata": {},
   "source": [
    "In the three regression models, I chose to use three variables that I think should have some predicative power over post-school earnings. However, the full dataset provide over 1800 variables, all of which could be related to post-school earnings. For future work, I want to explore other variables to see if there are other interesting trend explaining potential relationships with post-school earnings."
   ]
  },
  {
   "cell_type": "markdown",
   "metadata": {},
   "source": [
    "### Interpretation Considerations"
   ]
  },
  {
   "cell_type": "markdown",
   "metadata": {},
   "source": [
    "From the model, we concluded that average cost of attendance is a statistically significant predictor of post-school earnings. However, there are other collinearity considerations between these two variables. For example, both higher cost of attendance and higher earnings can be caused by higher cost of living, which could potentially be explained by incorporating income data. These casual claims will need further investigations and validations."
   ]
  },
  {
   "cell_type": "markdown",
   "metadata": {},
   "source": [
    "## Conclusions"
   ]
  },
  {
   "cell_type": "markdown",
   "metadata": {},
   "source": [
    "There three main findings from this analysis of College Scorecard Dataset:\n",
    "\n",
    "* There are significant differences in terms of education availability, education accessibility across US states and regions. These differences can limit students' ability to attain higher education and should be addressed through state governments.\n",
    "* Racial diversity is different between private and public schools and different across different regions. Applicants should be made aware of these diversity difference before applying to schools.\n",
    "* Cost of attendance is a statistically significant positive indicator of post-school earnings, however, more comprehensive analysis is needed to make the casual claim.\n",
    "\n",
    "This project is also designed with the end users in mind. The graphs and results are built to help international students to become informed of the differences across states and regions in the United States so they can make better decisions when applying without having been to the States. The map visualizations are made to help convey the message of the difference between coastal regions and inland regions, and the other bargraphs and scartterplot are made so that the interpretation of modeling results are easily understood.\n",
    "\n",
    "There are also a lot more interesting trends to be discovered in this rich dataset to help applicants make informed decisions and to help government officials understand the education ecosystem."
   ]
  },
  {
   "cell_type": "markdown",
   "metadata": {},
   "source": [
    "## References"
   ]
  },
  {
   "cell_type": "markdown",
   "metadata": {},
   "source": [
    "* https://collegescorecard.ed.gov/data/\n",
    "* https://collegescorecard.ed.gov/data/documentation/\n",
    "* https://collegescorecard.ed.gov\n",
    "* https://www.brookings.edu/research/using-earnings-data-to-rank-colleges-a-value-added-approach-updated-with-college-scorecard-data/"
   ]
  }
 ],
 "metadata": {
  "kernelspec": {
   "display_name": "Python 3",
   "language": "python",
   "name": "python3"
  },
  "language_info": {
   "codemirror_mode": {
    "name": "ipython",
    "version": 3
   },
   "file_extension": ".py",
   "mimetype": "text/x-python",
   "name": "python",
   "nbconvert_exporter": "python",
   "pygments_lexer": "ipython3",
   "version": "3.6.2"
  }
 },
 "nbformat": 4,
 "nbformat_minor": 2
}
